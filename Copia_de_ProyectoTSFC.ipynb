{
  "nbformat": 4,
  "nbformat_minor": 0,
  "metadata": {
    "colab": {
      "provenance": [],
      "collapsed_sections": [
        "AZBcYxsuplvu"
      ]
    },
    "kernelspec": {
      "name": "python3",
      "display_name": "Python 3"
    },
    "language_info": {
      "name": "python"
    }
  },
  "cells": [
    {
      "cell_type": "markdown",
      "source": [
        "# Identificación de textos de acuerdo a su área científica, física, biología o química."
      ],
      "metadata": {
        "id": "aUf5Tqt0SBHv"
      }
    },
    {
      "cell_type": "code",
      "source": [
        "from google.colab import drive\n",
        "drive.mount('/content/drive')"
      ],
      "metadata": {
        "colab": {
          "base_uri": "https://localhost:8080/"
        },
        "id": "oXwV8kNCvEW3",
        "outputId": "2605cc45-0f16-4bb4-cd31-bdad1574fb22"
      },
      "execution_count": null,
      "outputs": [
        {
          "output_type": "stream",
          "name": "stdout",
          "text": [
            "Drive already mounted at /content/drive; to attempt to forcibly remount, call drive.mount(\"/content/drive\", force_remount=True).\n"
          ]
        }
      ]
    },
    {
      "cell_type": "code",
      "source": [
        "import numpy as np\n",
        "import pandas as pd\n",
        "import seaborn as sns\n",
        "import matplotlib.pyplot as plt\n",
        "from tensorflow.keras import regularizers"
      ],
      "metadata": {
        "id": "8EbeVSI5HjdO"
      },
      "execution_count": null,
      "outputs": []
    },
    {
      "cell_type": "markdown",
      "source": [
        "# Carga del conjunto de datos"
      ],
      "metadata": {
        "id": "LoD5HBJEZuiY"
      }
    },
    {
      "cell_type": "code",
      "execution_count": null,
      "metadata": {
        "id": "pbTITXYLG4Rp"
      },
      "outputs": [],
      "source": [
        "train=pd.read_csv('/content/drive/MyDrive/redes_neuronales/train.csv')\n",
        "test=pd.read_csv('/content/drive/MyDrive/redes_neuronales/test.csv')"
      ]
    },
    {
      "cell_type": "code",
      "source": [
        "from sklearn.utils import shuffle\n",
        "train = shuffle(train)\n",
        "train.reset_index(inplace=True, drop=True)\n",
        "test = shuffle(test)\n",
        "test.reset_index(inplace=True, drop=True)"
      ],
      "metadata": {
        "id": "9a3QmAUtOauK"
      },
      "execution_count": null,
      "outputs": []
    },
    {
      "cell_type": "code",
      "source": [
        "train_comments = train[['Comment']]\n",
        "train_topic = train[['Topic']]\n",
        "\n",
        "test_comments = test[['Comment']]\n",
        "test_topic = test[['Topic']]"
      ],
      "metadata": {
        "id": "xZfkyQuHZbe5"
      },
      "execution_count": null,
      "outputs": []
    },
    {
      "cell_type": "markdown",
      "source": [
        "# Visualizacion del conjunto de entrenamiento y prueba"
      ],
      "metadata": {
        "id": "6Pz0K5GoRxvh"
      }
    },
    {
      "cell_type": "code",
      "source": [
        "print(train_comments.shape)\n",
        "print(train_topic.shape)\n",
        "\n",
        "print(test_comments.shape)\n",
        "print(test_topic.shape)"
      ],
      "metadata": {
        "colab": {
          "base_uri": "https://localhost:8080/"
        },
        "id": "Veu7PrjaaUpy",
        "outputId": "6a2abc10-d08e-4e86-ca4a-244a420ac4ec"
      },
      "execution_count": null,
      "outputs": [
        {
          "output_type": "stream",
          "name": "stdout",
          "text": [
            "(8695, 1)\n",
            "(8695, 1)\n",
            "(1586, 1)\n",
            "(1586, 1)\n"
          ]
        }
      ]
    },
    {
      "cell_type": "code",
      "source": [
        "print(train_comments['Comment'][1])\n",
        "print(train_topic['Topic'][1])"
      ],
      "metadata": {
        "colab": {
          "base_uri": "https://localhost:8080/"
        },
        "id": "DWhh8FSaaK8S",
        "outputId": "f092d7ba-4769-47ab-980c-3505d1e8f133"
      },
      "execution_count": null,
      "outputs": [
        {
          "output_type": "stream",
          "name": "stdout",
          "text": [
            "Looks like a naughty spider to me\n",
            "Biology\n"
          ]
        }
      ]
    },
    {
      "cell_type": "code",
      "source": [
        "plt.figure(figsize=(8,4))\n",
        "sns.countplot(x = train_topic['Topic'])\n",
        "plt.title(\"Tema vs Comentarios (Conjunto de Entrenamiento)\",fontsize = 18,fontweight = 'bold')\n",
        "plt.xlabel(\"Tema\",fontsize = 13,fontweight = 'bold')\n",
        "plt.ylabel(\"Comentarios\",fontsize=13,fontweight = 'bold')\n",
        "plt.show()"
      ],
      "metadata": {
        "colab": {
          "base_uri": "https://localhost:8080/",
          "height": 302
        },
        "id": "0t2Lfw5AHq6p",
        "outputId": "03a1cd1d-6a89-4618-c853-ad90bc3e802b"
      },
      "execution_count": null,
      "outputs": [
        {
          "output_type": "display_data",
          "data": {
            "text/plain": [
              "<Figure size 576x288 with 1 Axes>"
            ],
            "image/png": "[encoded data removed]"
          },
          "metadata": {
            "needs_background": "light"
          }
        }
      ]
    },
    {
      "cell_type": "markdown",
      "source": [
        "Para el conjunto de entrenamiento, tenemos:\n",
        "*   41.3% de comentarios para Biologia\n",
        "*   25.1% de comentarios para Fisica\n",
        "*   33.6% de comentarios para Quimica"
      ],
      "metadata": {
        "id": "GBUwqKMuNLRA"
      }
    },
    {
      "cell_type": "code",
      "source": [
        "plt.figure(figsize=(8,4))\n",
        "sns.countplot(x = test_topic['Topic'])\n",
        "plt.title(\"Tema vs Comentarios (Conjunto de Prueba)\",fontsize = 18,fontweight = 'bold')\n",
        "plt.xlabel(\"Tema\",fontsize = 13,fontweight = 'bold')\n",
        "plt.ylabel(\"Comentarios\",fontsize=13,fontweight = 'bold')\n",
        "plt.show()"
      ],
      "metadata": {
        "colab": {
          "base_uri": "https://localhost:8080/",
          "height": 302
        },
        "id": "T6lh_BOpIxrZ",
        "outputId": "07239266-3600-45b9-e35d-97f9117c6d8e"
      },
      "execution_count": null,
      "outputs": [
        {
          "output_type": "display_data",
          "data": {
            "text/plain": [
              "<Figure size 576x288 with 1 Axes>"
            ],
            "image/png": "[encoded data removed]"
          },
          "metadata": {
            "needs_background": "light"
          }
        }
      ]
    },
    {
      "cell_type": "markdown",
      "source": [
        "Para el conjunto de prueba, tenemos:\n",
        "*   38.7% de comentarios para Biologia\n",
        "*   29.4% de comentarios para Fisica\n",
        "*   31.9% de comentarios para Quimica"
      ],
      "metadata": {
        "id": "yK216F4IOKv3"
      }
    },
    {
      "cell_type": "markdown",
      "source": [
        "# Preprocesamiento de datos"
      ],
      "metadata": {
        "id": "TgdPaJLSYsIn"
      }
    },
    {
      "cell_type": "markdown",
      "source": [
        "Eliminamos los emojis de los comentarios"
      ],
      "metadata": {
        "id": "58bH9N3Yii-E"
      }
    },
    {
      "cell_type": "code",
      "source": [
        "import re\n",
        "\n",
        "def deEmojify(text):\n",
        "    regrex_pattern = re.compile(pattern = \"[\"\n",
        "        u\"\\U0001F600-\\U0001F64F\"  # emoticons\n",
        "        u\"\\U0001F300-\\U0001F5FF\"  # symbols & pictographs\n",
        "        u\"\\U0001F680-\\U0001F6FF\"  # transport & map symbols\n",
        "        u\"\\U0001F1E0-\\U0001F1FF\"  # flags (iOS)\n",
        "        u\"\\U00002702-\\U000027B0\"\n",
        "        u\"\\U000024C2-\\U0001F251\"\n",
        "                           \"]+\", flags = re.UNICODE)\n",
        "    return regrex_pattern.sub(r'',text)"
      ],
      "metadata": {
        "id": "CxqZE2Jpe6xj"
      },
      "execution_count": null,
      "outputs": []
    },
    {
      "cell_type": "code",
      "source": [
        "train_comments['Sin_Emoji'] = train_comments['Comment'].apply(lambda x: deEmojify(x))"
      ],
      "metadata": {
        "id": "FNpgj57Hfp3j",
        "colab": {
          "base_uri": "https://localhost:8080/"
        },
        "outputId": "8d1d889c-f075-4f9e-e394-02a8036543e2"
      },
      "execution_count": null,
      "outputs": [
        {
          "output_type": "stream",
          "name": "stderr",
          "text": [
            "<ipython-input-192-db18794aaa99>:1: SettingWithCopyWarning: \n",
            "A value is trying to be set on a copy of a slice from a DataFrame.\n",
            "Try using .loc[row_indexer,col_indexer] = value instead\n",
            "\n",
            "See the caveats in the documentation: https://pandas.pydata.org/pandas-docs/stable/user_guide/indexing.html#returning-a-view-versus-a-copy\n",
            "  train_comments['Sin_Emoji'] = train_comments['Comment'].apply(lambda x: deEmojify(x))\n"
          ]
        }
      ]
    },
    {
      "cell_type": "code",
      "source": [
        "train_comments"
      ],
      "metadata": {
        "colab": {
          "base_uri": "https://localhost:8080/",
          "height": 423
        },
        "id": "KqePumhMh2Ce",
        "outputId": "8f0d5843-a9b6-4645-d130-2ab111854180"
      },
      "execution_count": null,
      "outputs": [
        {
          "output_type": "execute_result",
          "data": {
            "text/plain": [
              "                                                Comment  \\\n",
              "0                                Put it in the freezer.   \n",
              "1                     Looks like a naughty spider to me   \n",
              "2     Theorists are idiots, experimentalists are idi...   \n",
              "3     Beautiful mysterious creatures.. unfortunately...   \n",
              "4     Typically, no. Depending on how peer review go...   \n",
              "...                                                 ...   \n",
              "8690  Also keep in mind those are just the three \"va...   \n",
              "8691  Loves phosphates and it turns pink based on th...   \n",
              "8692  Isn't an atom really small? And I have a hypot...   \n",
              "8693  Random question- is there a difference between...   \n",
              "8694  1. Draw the structure.\\n2. Select it.\\n3. Clic...   \n",
              "\n",
              "                                              Sin_Emoji  \n",
              "0                                Put it in the freezer.  \n",
              "1                     Looks like a naughty spider to me  \n",
              "2     Theorists are idiots, experimentalists are idi...  \n",
              "3     Beautiful mysterious creatures.. unfortunately...  \n",
              "4     Typically, no. Depending on how peer review go...  \n",
              "...                                                 ...  \n",
              "8690  Also keep in mind those are just the three \"va...  \n",
              "8691  Loves phosphates and it turns pink based on th...  \n",
              "8692  Isn't an atom really small? And I have a hypot...  \n",
              "8693  Random question- is there a difference between...  \n",
              "8694  1. Draw the structure.\\n2. Select it.\\n3. Clic...  \n",
              "\n",
              "[8695 rows x 2 columns]"
            ],
            "text/html": [
              "\n",
              "  <div id=\"df-663deeb1-162c-4de6-ab5c-52bac8cb527f\">\n",
              "    <div class=\"colab-df-container\">\n",
              "      <div>\n",
              "<style scoped>\n",
              "    .dataframe tbody tr th:only-of-type {\n",
              "        vertical-align: middle;\n",
              "    }\n",
              "\n",
              "    .dataframe tbody tr th {\n",
              "        vertical-align: top;\n",
              "    }\n",
              "\n",
              "    .dataframe thead th {\n",
              "        text-align: right;\n",
              "    }\n",
              "</style>\n",
              "<table border=\"1\" class=\"dataframe\">\n",
              "  <thead>\n",
              "    <tr style=\"text-align: right;\">\n",
              "      <th></th>\n",
              "      <th>Comment</th>\n",
              "      <th>Sin_Emoji</th>\n",
              "    </tr>\n",
              "  </thead>\n",
              "  <tbody>\n",
              "    <tr>\n",
              "      <th>0</th>\n",
              "      <td>Put it in the freezer.</td>\n",
              "      <td>Put it in the freezer.</td>\n",
              "    </tr>\n",
              "    <tr>\n",
              "      <th>1</th>\n",
              "      <td>Looks like a naughty spider to me</td>\n",
              "      <td>Looks like a naughty spider to me</td>\n",
              "    </tr>\n",
              "    <tr>\n",
              "      <th>2</th>\n",
              "      <td>Theorists are idiots, experimentalists are idi...</td>\n",
              "      <td>Theorists are idiots, experimentalists are idi...</td>\n",
              "    </tr>\n",
              "    <tr>\n",
              "      <th>3</th>\n",
              "      <td>Beautiful mysterious creatures.. unfortunately...</td>\n",
              "      <td>Beautiful mysterious creatures.. unfortunately...</td>\n",
              "    </tr>\n",
              "    <tr>\n",
              "      <th>4</th>\n",
              "      <td>Typically, no. Depending on how peer review go...</td>\n",
              "      <td>Typically, no. Depending on how peer review go...</td>\n",
              "    </tr>\n",
              "    <tr>\n",
              "      <th>...</th>\n",
              "      <td>...</td>\n",
              "      <td>...</td>\n",
              "    </tr>\n",
              "    <tr>\n",
              "      <th>8690</th>\n",
              "      <td>Also keep in mind those are just the three \"va...</td>\n",
              "      <td>Also keep in mind those are just the three \"va...</td>\n",
              "    </tr>\n",
              "    <tr>\n",
              "      <th>8691</th>\n",
              "      <td>Loves phosphates and it turns pink based on th...</td>\n",
              "      <td>Loves phosphates and it turns pink based on th...</td>\n",
              "    </tr>\n",
              "    <tr>\n",
              "      <th>8692</th>\n",
              "      <td>Isn't an atom really small? And I have a hypot...</td>\n",
              "      <td>Isn't an atom really small? And I have a hypot...</td>\n",
              "    </tr>\n",
              "    <tr>\n",
              "      <th>8693</th>\n",
              "      <td>Random question- is there a difference between...</td>\n",
              "      <td>Random question- is there a difference between...</td>\n",
              "    </tr>\n",
              "    <tr>\n",
              "      <th>8694</th>\n",
              "      <td>1. Draw the structure.\\n2. Select it.\\n3. Clic...</td>\n",
              "      <td>1. Draw the structure.\\n2. Select it.\\n3. Clic...</td>\n",
              "    </tr>\n",
              "  </tbody>\n",
              "</table>\n",
              "<p>8695 rows × 2 columns</p>\n",
              "</div>\n",
              "      <button class=\"colab-df-convert\" onclick=\"convertToInteractive('df-663deeb1-162c-4de6-ab5c-52bac8cb527f')\"\n",
              "              title=\"Convert this dataframe to an interactive table.\"\n",
              "              style=\"display:none;\">\n",
              "        \n",
              "  <svg xmlns=\"http://www.w3.org/2000/svg\" height=\"24px\"viewBox=\"0 0 24 24\"\n",
              "       width=\"24px\">\n",
              "    <path d=\"M0 0h24v24H0V0z\" fill=\"none\"/>\n",
              "    <path d=\"M18.56 5.44l.94 2.06.94-2.06 2.06-.94-2.06-.94-.94-2.06-.94 2.06-2.06.94zm-11 1L8.5 8.5l.94-2.06 2.06-.94-2.06-.94L8.5 2.5l-.94 2.06-2.06.94zm10 10l.94 2.06.94-2.06 2.06-.94-2.06-.94-.94-2.06-.94 2.06-2.06.94z\"/><path d=\"M17.41 7.96l-1.37-1.37c-.4-.4-.92-.59-1.43-.59-.52 0-1.04.2-1.43.59L10.3 9.45l-7.72 7.72c-.78.78-.78 2.05 0 2.83L4 21.41c.39.39.9.59 1.41.59.51 0 1.02-.2 1.41-.59l7.78-7.78 2.81-2.81c.8-.78.8-2.07 0-2.86zM5.41 20L4 18.59l7.72-7.72 1.47 1.35L5.41 20z\"/>\n",
              "  </svg>\n",
              "      </button>\n",
              "      \n",
              "  <style>\n",
              "    .colab-df-container {\n",
              "      display:flex;\n",
              "      flex-wrap:wrap;\n",
              "      gap: 12px;\n",
              "    }\n",
              "\n",
              "    .colab-df-convert {\n",
              "      background-color: #E8F0FE;\n",
              "      border: none;\n",
              "      border-radius: 50%;\n",
              "      cursor: pointer;\n",
              "      display: none;\n",
              "      fill: #1967D2;\n",
              "      height: 32px;\n",
              "      padding: 0 0 0 0;\n",
              "      width: 32px;\n",
              "    }\n",
              "\n",
              "    .colab-df-convert:hover {\n",
              "      background-color: #E2EBFA;\n",
              "      box-shadow: 0px 1px 2px rgba(60, 64, 67, 0.3), 0px 1px 3px 1px rgba(60, 64, 67, 0.15);\n",
              "      fill: #174EA6;\n",
              "    }\n",
              "\n",
              "    [theme=dark] .colab-df-convert {\n",
              "      background-color: #3B4455;\n",
              "      fill: #D2E3FC;\n",
              "    }\n",
              "\n",
              "    [theme=dark] .colab-df-convert:hover {\n",
              "      background-color: #434B5C;\n",
              "      box-shadow: 0px 1px 3px 1px rgba(0, 0, 0, 0.15);\n",
              "      filter: drop-shadow(0px 1px 2px rgba(0, 0, 0, 0.3));\n",
              "      fill: #FFFFFF;\n",
              "    }\n",
              "  </style>\n",
              "\n",
              "      <script>\n",
              "        const buttonEl =\n",
              "          document.querySelector('#df-663deeb1-162c-4de6-ab5c-52bac8cb527f button.colab-df-convert');\n",
              "        buttonEl.style.display =\n",
              "          google.colab.kernel.accessAllowed ? 'block' : 'none';\n",
              "\n",
              "        async function convertToInteractive(key) {\n",
              "          const element = document.querySelector('#df-663deeb1-162c-4de6-ab5c-52bac8cb527f');\n",
              "          const dataTable =\n",
              "            await google.colab.kernel.invokeFunction('convertToInteractive',\n",
              "                                                     [key], {});\n",
              "          if (!dataTable) return;\n",
              "\n",
              "          const docLinkHtml = 'Like what you see? Visit the ' +\n",
              "            '<a target=\"_blank\" href=https://colab.research.google.com/notebooks/data_table.ipynb>data table notebook</a>'\n",
              "            + ' to learn more about interactive tables.';\n",
              "          element.innerHTML = '';\n",
              "          dataTable['output_type'] = 'display_data';\n",
              "          await google.colab.output.renderOutput(dataTable, element);\n",
              "          const docLink = document.createElement('div');\n",
              "          docLink.innerHTML = docLinkHtml;\n",
              "          element.appendChild(docLink);\n",
              "        }\n",
              "      </script>\n",
              "    </div>\n",
              "  </div>\n",
              "  "
            ]
          },
          "metadata": {},
          "execution_count": 193
        }
      ]
    },
    {
      "cell_type": "code",
      "source": [
        "print(\"Con emoji:\",train_comments['Comment'][12])\n",
        "print(\"Sin emoji:\",train_comments['Sin_Emoji'][12])"
      ],
      "metadata": {
        "colab": {
          "base_uri": "https://localhost:8080/"
        },
        "id": "MfXGX4skiKk6",
        "outputId": "c5c0948f-b910-4d3f-e2bf-2d336f82a2db"
      },
      "execution_count": null,
      "outputs": [
        {
          "output_type": "stream",
          "name": "stdout",
          "text": [
            "Con emoji: Do you mean like maple syrup?\n",
            "Sin emoji: Do you mean like maple syrup?\n"
          ]
        }
      ]
    },
    {
      "cell_type": "markdown",
      "source": [
        "Quitar atributos HTML"
      ],
      "metadata": {
        "id": "Y0Y9HSNxbZAb"
      }
    },
    {
      "cell_type": "code",
      "source": [
        "def remove_html(text):\n",
        "    html_pattern = re.compile(r'https?://\\S+|www\\.\\S+')\n",
        "    return html_pattern.sub(r'', text)"
      ],
      "metadata": {
        "id": "jBdSqZfEaYvH"
      },
      "execution_count": null,
      "outputs": []
    },
    {
      "cell_type": "code",
      "source": [
        "train_comments['Sin_atributos_HTML'] = train_comments['Sin_Emoji'].apply(lambda x: remove_html(x))"
      ],
      "metadata": {
        "id": "A9CSYhOwbcL_"
      },
      "execution_count": null,
      "outputs": []
    },
    {
      "cell_type": "code",
      "source": [
        "train_comments"
      ],
      "metadata": {
        "colab": {
          "base_uri": "https://localhost:8080/",
          "height": 423
        },
        "id": "swa9dZlCbrHK",
        "outputId": "2848d84f-36f2-496c-be38-f37d68b578f2"
      },
      "execution_count": null,
      "outputs": [
        {
          "output_type": "execute_result",
          "data": {
            "text/plain": [
              "                                                Comment  \\\n",
              "0                                Put it in the freezer.   \n",
              "1                     Looks like a naughty spider to me   \n",
              "2     Theorists are idiots, experimentalists are idi...   \n",
              "3     Beautiful mysterious creatures.. unfortunately...   \n",
              "4     Typically, no. Depending on how peer review go...   \n",
              "...                                                 ...   \n",
              "8690  Also keep in mind those are just the three \"va...   \n",
              "8691  Loves phosphates and it turns pink based on th...   \n",
              "8692  Isn't an atom really small? And I have a hypot...   \n",
              "8693  Random question- is there a difference between...   \n",
              "8694  1. Draw the structure.\\n2. Select it.\\n3. Clic...   \n",
              "\n",
              "                                              Sin_Emoji  \\\n",
              "0                                Put it in the freezer.   \n",
              "1                     Looks like a naughty spider to me   \n",
              "2     Theorists are idiots, experimentalists are idi...   \n",
              "3     Beautiful mysterious creatures.. unfortunately...   \n",
              "4     Typically, no. Depending on how peer review go...   \n",
              "...                                                 ...   \n",
              "8690  Also keep in mind those are just the three \"va...   \n",
              "8691  Loves phosphates and it turns pink based on th...   \n",
              "8692  Isn't an atom really small? And I have a hypot...   \n",
              "8693  Random question- is there a difference between...   \n",
              "8694  1. Draw the structure.\\n2. Select it.\\n3. Clic...   \n",
              "\n",
              "                                     Sin_atributos_HTML  \n",
              "0                                Put it in the freezer.  \n",
              "1                     Looks like a naughty spider to me  \n",
              "2     Theorists are idiots, experimentalists are idi...  \n",
              "3     Beautiful mysterious creatures.. unfortunately...  \n",
              "4     Typically, no. Depending on how peer review go...  \n",
              "...                                                 ...  \n",
              "8690  Also keep in mind those are just the three \"va...  \n",
              "8691  Loves phosphates and it turns pink based on th...  \n",
              "8692  Isn't an atom really small? And I have a hypot...  \n",
              "8693  Random question- is there a difference between...  \n",
              "8694  1. Draw the structure.\\n2. Select it.\\n3. Clic...  \n",
              "\n",
              "[8695 rows x 3 columns]"
            ],
            "text/html": [
              "\n",
              "  <div id=\"df-4acbd670-7f0f-49a9-b280-a62048f0bfe9\">\n",
              "    <div class=\"colab-df-container\">\n",
              "      <div>\n",
              "<style scoped>\n",
              "    .dataframe tbody tr th:only-of-type {\n",
              "        vertical-align: middle;\n",
              "    }\n",
              "\n",
              "    .dataframe tbody tr th {\n",
              "        vertical-align: top;\n",
              "    }\n",
              "\n",
              "    .dataframe thead th {\n",
              "        text-align: right;\n",
              "    }\n",
              "</style>\n",
              "<table border=\"1\" class=\"dataframe\">\n",
              "  <thead>\n",
              "    <tr style=\"text-align: right;\">\n",
              "      <th></th>\n",
              "      <th>Comment</th>\n",
              "      <th>Sin_Emoji</th>\n",
              "      <th>Sin_atributos_HTML</th>\n",
              "    </tr>\n",
              "  </thead>\n",
              "  <tbody>\n",
              "    <tr>\n",
              "      <th>0</th>\n",
              "      <td>Put it in the freezer.</td>\n",
              "      <td>Put it in the freezer.</td>\n",
              "      <td>Put it in the freezer.</td>\n",
              "    </tr>\n",
              "    <tr>\n",
              "      <th>1</th>\n",
              "      <td>Looks like a naughty spider to me</td>\n",
              "      <td>Looks like a naughty spider to me</td>\n",
              "      <td>Looks like a naughty spider to me</td>\n",
              "    </tr>\n",
              "    <tr>\n",
              "      <th>2</th>\n",
              "      <td>Theorists are idiots, experimentalists are idi...</td>\n",
              "      <td>Theorists are idiots, experimentalists are idi...</td>\n",
              "      <td>Theorists are idiots, experimentalists are idi...</td>\n",
              "    </tr>\n",
              "    <tr>\n",
              "      <th>3</th>\n",
              "      <td>Beautiful mysterious creatures.. unfortunately...</td>\n",
              "      <td>Beautiful mysterious creatures.. unfortunately...</td>\n",
              "      <td>Beautiful mysterious creatures.. unfortunately...</td>\n",
              "    </tr>\n",
              "    <tr>\n",
              "      <th>4</th>\n",
              "      <td>Typically, no. Depending on how peer review go...</td>\n",
              "      <td>Typically, no. Depending on how peer review go...</td>\n",
              "      <td>Typically, no. Depending on how peer review go...</td>\n",
              "    </tr>\n",
              "    <tr>\n",
              "      <th>...</th>\n",
              "      <td>...</td>\n",
              "      <td>...</td>\n",
              "      <td>...</td>\n",
              "    </tr>\n",
              "    <tr>\n",
              "      <th>8690</th>\n",
              "      <td>Also keep in mind those are just the three \"va...</td>\n",
              "      <td>Also keep in mind those are just the three \"va...</td>\n",
              "      <td>Also keep in mind those are just the three \"va...</td>\n",
              "    </tr>\n",
              "    <tr>\n",
              "      <th>8691</th>\n",
              "      <td>Loves phosphates and it turns pink based on th...</td>\n",
              "      <td>Loves phosphates and it turns pink based on th...</td>\n",
              "      <td>Loves phosphates and it turns pink based on th...</td>\n",
              "    </tr>\n",
              "    <tr>\n",
              "      <th>8692</th>\n",
              "      <td>Isn't an atom really small? And I have a hypot...</td>\n",
              "      <td>Isn't an atom really small? And I have a hypot...</td>\n",
              "      <td>Isn't an atom really small? And I have a hypot...</td>\n",
              "    </tr>\n",
              "    <tr>\n",
              "      <th>8693</th>\n",
              "      <td>Random question- is there a difference between...</td>\n",
              "      <td>Random question- is there a difference between...</td>\n",
              "      <td>Random question- is there a difference between...</td>\n",
              "    </tr>\n",
              "    <tr>\n",
              "      <th>8694</th>\n",
              "      <td>1. Draw the structure.\\n2. Select it.\\n3. Clic...</td>\n",
              "      <td>1. Draw the structure.\\n2. Select it.\\n3. Clic...</td>\n",
              "      <td>1. Draw the structure.\\n2. Select it.\\n3. Clic...</td>\n",
              "    </tr>\n",
              "  </tbody>\n",
              "</table>\n",
              "<p>8695 rows × 3 columns</p>\n",
              "</div>\n",
              "      <button class=\"colab-df-convert\" onclick=\"convertToInteractive('df-4acbd670-7f0f-49a9-b280-a62048f0bfe9')\"\n",
              "              title=\"Convert this dataframe to an interactive table.\"\n",
              "              style=\"display:none;\">\n",
              "        \n",
              "  <svg xmlns=\"http://www.w3.org/2000/svg\" height=\"24px\"viewBox=\"0 0 24 24\"\n",
              "       width=\"24px\">\n",
              "    <path d=\"M0 0h24v24H0V0z\" fill=\"none\"/>\n",
              "    <path d=\"M18.56 5.44l.94 2.06.94-2.06 2.06-.94-2.06-.94-.94-2.06-.94 2.06-2.06.94zm-11 1L8.5 8.5l.94-2.06 2.06-.94-2.06-.94L8.5 2.5l-.94 2.06-2.06.94zm10 10l.94 2.06.94-2.06 2.06-.94-2.06-.94-.94-2.06-.94 2.06-2.06.94z\"/><path d=\"M17.41 7.96l-1.37-1.37c-.4-.4-.92-.59-1.43-.59-.52 0-1.04.2-1.43.59L10.3 9.45l-7.72 7.72c-.78.78-.78 2.05 0 2.83L4 21.41c.39.39.9.59 1.41.59.51 0 1.02-.2 1.41-.59l7.78-7.78 2.81-2.81c.8-.78.8-2.07 0-2.86zM5.41 20L4 18.59l7.72-7.72 1.47 1.35L5.41 20z\"/>\n",
              "  </svg>\n",
              "      </button>\n",
              "      \n",
              "  <style>\n",
              "    .colab-df-container {\n",
              "      display:flex;\n",
              "      flex-wrap:wrap;\n",
              "      gap: 12px;\n",
              "    }\n",
              "\n",
              "    .colab-df-convert {\n",
              "      background-color: #E8F0FE;\n",
              "      border: none;\n",
              "      border-radius: 50%;\n",
              "      cursor: pointer;\n",
              "      display: none;\n",
              "      fill: #1967D2;\n",
              "      height: 32px;\n",
              "      padding: 0 0 0 0;\n",
              "      width: 32px;\n",
              "    }\n",
              "\n",
              "    .colab-df-convert:hover {\n",
              "      background-color: #E2EBFA;\n",
              "      box-shadow: 0px 1px 2px rgba(60, 64, 67, 0.3), 0px 1px 3px 1px rgba(60, 64, 67, 0.15);\n",
              "      fill: #174EA6;\n",
              "    }\n",
              "\n",
              "    [theme=dark] .colab-df-convert {\n",
              "      background-color: #3B4455;\n",
              "      fill: #D2E3FC;\n",
              "    }\n",
              "\n",
              "    [theme=dark] .colab-df-convert:hover {\n",
              "      background-color: #434B5C;\n",
              "      box-shadow: 0px 1px 3px 1px rgba(0, 0, 0, 0.15);\n",
              "      filter: drop-shadow(0px 1px 2px rgba(0, 0, 0, 0.3));\n",
              "      fill: #FFFFFF;\n",
              "    }\n",
              "  </style>\n",
              "\n",
              "      <script>\n",
              "        const buttonEl =\n",
              "          document.querySelector('#df-4acbd670-7f0f-49a9-b280-a62048f0bfe9 button.colab-df-convert');\n",
              "        buttonEl.style.display =\n",
              "          google.colab.kernel.accessAllowed ? 'block' : 'none';\n",
              "\n",
              "        async function convertToInteractive(key) {\n",
              "          const element = document.querySelector('#df-4acbd670-7f0f-49a9-b280-a62048f0bfe9');\n",
              "          const dataTable =\n",
              "            await google.colab.kernel.invokeFunction('convertToInteractive',\n",
              "                                                     [key], {});\n",
              "          if (!dataTable) return;\n",
              "\n",
              "          const docLinkHtml = 'Like what you see? Visit the ' +\n",
              "            '<a target=\"_blank\" href=https://colab.research.google.com/notebooks/data_table.ipynb>data table notebook</a>'\n",
              "            + ' to learn more about interactive tables.';\n",
              "          element.innerHTML = '';\n",
              "          dataTable['output_type'] = 'display_data';\n",
              "          await google.colab.output.renderOutput(dataTable, element);\n",
              "          const docLink = document.createElement('div');\n",
              "          docLink.innerHTML = docLinkHtml;\n",
              "          element.appendChild(docLink);\n",
              "        }\n",
              "      </script>\n",
              "    </div>\n",
              "  </div>\n",
              "  "
            ]
          },
          "metadata": {},
          "execution_count": 197
        }
      ]
    },
    {
      "cell_type": "code",
      "source": [
        "print(\"Comentarios: \\n1 \", train_comments['Comment'][8], \"\\n2\", train_comments['Comment'][55], \"\\n3\",train_comments['Comment'][117])\n",
        "print(\"\\nSin atributos HTML: \\n1 \", train_comments['Sin_atributos_HTML'][8], \"\\n2\", train_comments['Sin_atributos_HTML'][55], \"\\n3\",train_comments['Sin_atributos_HTML'][117])"
      ],
      "metadata": {
        "colab": {
          "base_uri": "https://localhost:8080/"
        },
        "id": "U33U3qqabxL_",
        "outputId": "586133a8-56cc-43b8-e60b-6a6aba77c17c"
      },
      "execution_count": null,
      "outputs": [
        {
          "output_type": "stream",
          "name": "stdout",
          "text": [
            "Comentarios: \n",
            "1  The kinds nightmares are made of… \n",
            "2 And then there’s ignorance without compassion. Thanks for reminding me. \n",
            "3 Thank you…\n",
            "\n",
            "Sin atributos HTML: \n",
            "1  The kinds nightmares are made of… \n",
            "2 And then there’s ignorance without compassion. Thanks for reminding me. \n",
            "3 Thank you…\n"
          ]
        }
      ]
    },
    {
      "cell_type": "markdown",
      "source": [
        "Eliminación de signos de puntuación"
      ],
      "metadata": {
        "id": "v919cBN-fIl7"
      }
    },
    {
      "cell_type": "code",
      "source": [
        "import string"
      ],
      "metadata": {
        "id": "_gizJoU2kvDd"
      },
      "execution_count": null,
      "outputs": []
    },
    {
      "cell_type": "code",
      "source": [
        "def remove_punctuation(text):\n",
        "    punctuationfree = \"\".join([i for i in text if i not in string.punctuation])\n",
        "    return punctuationfree"
      ],
      "metadata": {
        "id": "JINBCeHHdeWO"
      },
      "execution_count": null,
      "outputs": []
    },
    {
      "cell_type": "code",
      "source": [
        "train_comments[\"Sin_signos_de_puntuacion\"] = train_comments[\"Sin_atributos_HTML\"].apply(lambda text: remove_punctuation(text))"
      ],
      "metadata": {
        "id": "Ooc3ft2sfACf"
      },
      "execution_count": null,
      "outputs": []
    },
    {
      "cell_type": "code",
      "source": [
        "train_comments"
      ],
      "metadata": {
        "colab": {
          "base_uri": "https://localhost:8080/",
          "height": 423
        },
        "id": "kCSUS7Q9fDcM",
        "outputId": "77e9878c-d7c9-4689-93b1-6a9d19d31bbe"
      },
      "execution_count": null,
      "outputs": [
        {
          "output_type": "execute_result",
          "data": {
            "text/plain": [
              "                                                Comment  \\\n",
              "0                                Put it in the freezer.   \n",
              "1                     Looks like a naughty spider to me   \n",
              "2     Theorists are idiots, experimentalists are idi...   \n",
              "3     Beautiful mysterious creatures.. unfortunately...   \n",
              "4     Typically, no. Depending on how peer review go...   \n",
              "...                                                 ...   \n",
              "8690  Also keep in mind those are just the three \"va...   \n",
              "8691  Loves phosphates and it turns pink based on th...   \n",
              "8692  Isn't an atom really small? And I have a hypot...   \n",
              "8693  Random question- is there a difference between...   \n",
              "8694  1. Draw the structure.\\n2. Select it.\\n3. Clic...   \n",
              "\n",
              "                                              Sin_Emoji  \\\n",
              "0                                Put it in the freezer.   \n",
              "1                     Looks like a naughty spider to me   \n",
              "2     Theorists are idiots, experimentalists are idi...   \n",
              "3     Beautiful mysterious creatures.. unfortunately...   \n",
              "4     Typically, no. Depending on how peer review go...   \n",
              "...                                                 ...   \n",
              "8690  Also keep in mind those are just the three \"va...   \n",
              "8691  Loves phosphates and it turns pink based on th...   \n",
              "8692  Isn't an atom really small? And I have a hypot...   \n",
              "8693  Random question- is there a difference between...   \n",
              "8694  1. Draw the structure.\\n2. Select it.\\n3. Clic...   \n",
              "\n",
              "                                     Sin_atributos_HTML  \\\n",
              "0                                Put it in the freezer.   \n",
              "1                     Looks like a naughty spider to me   \n",
              "2     Theorists are idiots, experimentalists are idi...   \n",
              "3     Beautiful mysterious creatures.. unfortunately...   \n",
              "4     Typically, no. Depending on how peer review go...   \n",
              "...                                                 ...   \n",
              "8690  Also keep in mind those are just the three \"va...   \n",
              "8691  Loves phosphates and it turns pink based on th...   \n",
              "8692  Isn't an atom really small? And I have a hypot...   \n",
              "8693  Random question- is there a difference between...   \n",
              "8694  1. Draw the structure.\\n2. Select it.\\n3. Clic...   \n",
              "\n",
              "                               Sin_signos_de_puntuacion  \n",
              "0                                 Put it in the freezer  \n",
              "1                     Looks like a naughty spider to me  \n",
              "2     Theorists are idiots experimentalists are idio...  \n",
              "3     Beautiful mysterious creatures unfortunately i...  \n",
              "4     Typically no Depending on how peer review goes...  \n",
              "...                                                 ...  \n",
              "8690  Also keep in mind those are just the three val...  \n",
              "8691  Loves phosphates and it turns pink based on th...  \n",
              "8692  Isnt an atom really small And I have a hypothe...  \n",
              "8693  Random question is there a difference between ...  \n",
              "8694  1 Draw the structuren2 Select itn3 Click on th...  \n",
              "\n",
              "[8695 rows x 4 columns]"
            ],
            "text/html": [
              "\n",
              "  <div id=\"df-cd968e04-8c32-4283-b36e-d96c8b25d4b3\">\n",
              "    <div class=\"colab-df-container\">\n",
              "      <div>\n",
              "<style scoped>\n",
              "    .dataframe tbody tr th:only-of-type {\n",
              "        vertical-align: middle;\n",
              "    }\n",
              "\n",
              "    .dataframe tbody tr th {\n",
              "        vertical-align: top;\n",
              "    }\n",
              "\n",
              "    .dataframe thead th {\n",
              "        text-align: right;\n",
              "    }\n",
              "</style>\n",
              "<table border=\"1\" class=\"dataframe\">\n",
              "  <thead>\n",
              "    <tr style=\"text-align: right;\">\n",
              "      <th></th>\n",
              "      <th>Comment</th>\n",
              "      <th>Sin_Emoji</th>\n",
              "      <th>Sin_atributos_HTML</th>\n",
              "      <th>Sin_signos_de_puntuacion</th>\n",
              "    </tr>\n",
              "  </thead>\n",
              "  <tbody>\n",
              "    <tr>\n",
              "      <th>0</th>\n",
              "      <td>Put it in the freezer.</td>\n",
              "      <td>Put it in the freezer.</td>\n",
              "      <td>Put it in the freezer.</td>\n",
              "      <td>Put it in the freezer</td>\n",
              "    </tr>\n",
              "    <tr>\n",
              "      <th>1</th>\n",
              "      <td>Looks like a naughty spider to me</td>\n",
              "      <td>Looks like a naughty spider to me</td>\n",
              "      <td>Looks like a naughty spider to me</td>\n",
              "      <td>Looks like a naughty spider to me</td>\n",
              "    </tr>\n",
              "    <tr>\n",
              "      <th>2</th>\n",
              "      <td>Theorists are idiots, experimentalists are idi...</td>\n",
              "      <td>Theorists are idiots, experimentalists are idi...</td>\n",
              "      <td>Theorists are idiots, experimentalists are idi...</td>\n",
              "      <td>Theorists are idiots experimentalists are idio...</td>\n",
              "    </tr>\n",
              "    <tr>\n",
              "      <th>3</th>\n",
              "      <td>Beautiful mysterious creatures.. unfortunately...</td>\n",
              "      <td>Beautiful mysterious creatures.. unfortunately...</td>\n",
              "      <td>Beautiful mysterious creatures.. unfortunately...</td>\n",
              "      <td>Beautiful mysterious creatures unfortunately i...</td>\n",
              "    </tr>\n",
              "    <tr>\n",
              "      <th>4</th>\n",
              "      <td>Typically, no. Depending on how peer review go...</td>\n",
              "      <td>Typically, no. Depending on how peer review go...</td>\n",
              "      <td>Typically, no. Depending on how peer review go...</td>\n",
              "      <td>Typically no Depending on how peer review goes...</td>\n",
              "    </tr>\n",
              "    <tr>\n",
              "      <th>...</th>\n",
              "      <td>...</td>\n",
              "      <td>...</td>\n",
              "      <td>...</td>\n",
              "      <td>...</td>\n",
              "    </tr>\n",
              "    <tr>\n",
              "      <th>8690</th>\n",
              "      <td>Also keep in mind those are just the three \"va...</td>\n",
              "      <td>Also keep in mind those are just the three \"va...</td>\n",
              "      <td>Also keep in mind those are just the three \"va...</td>\n",
              "      <td>Also keep in mind those are just the three val...</td>\n",
              "    </tr>\n",
              "    <tr>\n",
              "      <th>8691</th>\n",
              "      <td>Loves phosphates and it turns pink based on th...</td>\n",
              "      <td>Loves phosphates and it turns pink based on th...</td>\n",
              "      <td>Loves phosphates and it turns pink based on th...</td>\n",
              "      <td>Loves phosphates and it turns pink based on th...</td>\n",
              "    </tr>\n",
              "    <tr>\n",
              "      <th>8692</th>\n",
              "      <td>Isn't an atom really small? And I have a hypot...</td>\n",
              "      <td>Isn't an atom really small? And I have a hypot...</td>\n",
              "      <td>Isn't an atom really small? And I have a hypot...</td>\n",
              "      <td>Isnt an atom really small And I have a hypothe...</td>\n",
              "    </tr>\n",
              "    <tr>\n",
              "      <th>8693</th>\n",
              "      <td>Random question- is there a difference between...</td>\n",
              "      <td>Random question- is there a difference between...</td>\n",
              "      <td>Random question- is there a difference between...</td>\n",
              "      <td>Random question is there a difference between ...</td>\n",
              "    </tr>\n",
              "    <tr>\n",
              "      <th>8694</th>\n",
              "      <td>1. Draw the structure.\\n2. Select it.\\n3. Clic...</td>\n",
              "      <td>1. Draw the structure.\\n2. Select it.\\n3. Clic...</td>\n",
              "      <td>1. Draw the structure.\\n2. Select it.\\n3. Clic...</td>\n",
              "      <td>1 Draw the structuren2 Select itn3 Click on th...</td>\n",
              "    </tr>\n",
              "  </tbody>\n",
              "</table>\n",
              "<p>8695 rows × 4 columns</p>\n",
              "</div>\n",
              "      <button class=\"colab-df-convert\" onclick=\"convertToInteractive('df-cd968e04-8c32-4283-b36e-d96c8b25d4b3')\"\n",
              "              title=\"Convert this dataframe to an interactive table.\"\n",
              "              style=\"display:none;\">\n",
              "        \n",
              "  <svg xmlns=\"http://www.w3.org/2000/svg\" height=\"24px\"viewBox=\"0 0 24 24\"\n",
              "       width=\"24px\">\n",
              "    <path d=\"M0 0h24v24H0V0z\" fill=\"none\"/>\n",
              "    <path d=\"M18.56 5.44l.94 2.06.94-2.06 2.06-.94-2.06-.94-.94-2.06-.94 2.06-2.06.94zm-11 1L8.5 8.5l.94-2.06 2.06-.94-2.06-.94L8.5 2.5l-.94 2.06-2.06.94zm10 10l.94 2.06.94-2.06 2.06-.94-2.06-.94-.94-2.06-.94 2.06-2.06.94z\"/><path d=\"M17.41 7.96l-1.37-1.37c-.4-.4-.92-.59-1.43-.59-.52 0-1.04.2-1.43.59L10.3 9.45l-7.72 7.72c-.78.78-.78 2.05 0 2.83L4 21.41c.39.39.9.59 1.41.59.51 0 1.02-.2 1.41-.59l7.78-7.78 2.81-2.81c.8-.78.8-2.07 0-2.86zM5.41 20L4 18.59l7.72-7.72 1.47 1.35L5.41 20z\"/>\n",
              "  </svg>\n",
              "      </button>\n",
              "      \n",
              "  <style>\n",
              "    .colab-df-container {\n",
              "      display:flex;\n",
              "      flex-wrap:wrap;\n",
              "      gap: 12px;\n",
              "    }\n",
              "\n",
              "    .colab-df-convert {\n",
              "      background-color: #E8F0FE;\n",
              "      border: none;\n",
              "      border-radius: 50%;\n",
              "      cursor: pointer;\n",
              "      display: none;\n",
              "      fill: #1967D2;\n",
              "      height: 32px;\n",
              "      padding: 0 0 0 0;\n",
              "      width: 32px;\n",
              "    }\n",
              "\n",
              "    .colab-df-convert:hover {\n",
              "      background-color: #E2EBFA;\n",
              "      box-shadow: 0px 1px 2px rgba(60, 64, 67, 0.3), 0px 1px 3px 1px rgba(60, 64, 67, 0.15);\n",
              "      fill: #174EA6;\n",
              "    }\n",
              "\n",
              "    [theme=dark] .colab-df-convert {\n",
              "      background-color: #3B4455;\n",
              "      fill: #D2E3FC;\n",
              "    }\n",
              "\n",
              "    [theme=dark] .colab-df-convert:hover {\n",
              "      background-color: #434B5C;\n",
              "      box-shadow: 0px 1px 3px 1px rgba(0, 0, 0, 0.15);\n",
              "      filter: drop-shadow(0px 1px 2px rgba(0, 0, 0, 0.3));\n",
              "      fill: #FFFFFF;\n",
              "    }\n",
              "  </style>\n",
              "\n",
              "      <script>\n",
              "        const buttonEl =\n",
              "          document.querySelector('#df-cd968e04-8c32-4283-b36e-d96c8b25d4b3 button.colab-df-convert');\n",
              "        buttonEl.style.display =\n",
              "          google.colab.kernel.accessAllowed ? 'block' : 'none';\n",
              "\n",
              "        async function convertToInteractive(key) {\n",
              "          const element = document.querySelector('#df-cd968e04-8c32-4283-b36e-d96c8b25d4b3');\n",
              "          const dataTable =\n",
              "            await google.colab.kernel.invokeFunction('convertToInteractive',\n",
              "                                                     [key], {});\n",
              "          if (!dataTable) return;\n",
              "\n",
              "          const docLinkHtml = 'Like what you see? Visit the ' +\n",
              "            '<a target=\"_blank\" href=https://colab.research.google.com/notebooks/data_table.ipynb>data table notebook</a>'\n",
              "            + ' to learn more about interactive tables.';\n",
              "          element.innerHTML = '';\n",
              "          dataTable['output_type'] = 'display_data';\n",
              "          await google.colab.output.renderOutput(dataTable, element);\n",
              "          const docLink = document.createElement('div');\n",
              "          docLink.innerHTML = docLinkHtml;\n",
              "          element.appendChild(docLink);\n",
              "        }\n",
              "      </script>\n",
              "    </div>\n",
              "  </div>\n",
              "  "
            ]
          },
          "metadata": {},
          "execution_count": 202
        }
      ]
    },
    {
      "cell_type": "code",
      "source": [
        "print(\"Comentarios: \\n \", train_comments['Comment'][1])\n",
        "print(\"\\nSin signos de puntuacion HTML: \\n \", train_comments['Sin_signos_de_puntuacion'][1])"
      ],
      "metadata": {
        "colab": {
          "base_uri": "https://localhost:8080/"
        },
        "id": "yYidbds7fEeu",
        "outputId": "bf14bea0-c9f3-4495-b9e8-2fac11a25dc4"
      },
      "execution_count": null,
      "outputs": [
        {
          "output_type": "stream",
          "name": "stdout",
          "text": [
            "Comentarios: \n",
            "  Looks like a naughty spider to me\n",
            "\n",
            "Sin signos de puntuacion HTML: \n",
            "  Looks like a naughty spider to me\n"
          ]
        }
      ]
    },
    {
      "cell_type": "markdown",
      "source": [
        "Comentarios solo con minuscula"
      ],
      "metadata": {
        "id": "p024OUD5gwqp"
      }
    },
    {
      "cell_type": "code",
      "source": [
        "train_comments[\"Con_minusculas\"] = train_comments[\"Sin_signos_de_puntuacion\"].str.lower()"
      ],
      "metadata": {
        "id": "JhFTLFxnfVnD"
      },
      "execution_count": null,
      "outputs": []
    },
    {
      "cell_type": "code",
      "source": [
        "train_comments"
      ],
      "metadata": {
        "colab": {
          "base_uri": "https://localhost:8080/",
          "height": 606
        },
        "id": "QYt5mEfCg8cs",
        "outputId": "9fce9819-cd00-40e6-ddc8-8bd77d7934fa"
      },
      "execution_count": null,
      "outputs": [
        {
          "output_type": "execute_result",
          "data": {
            "text/plain": [
              "                                                Comment  \\\n",
              "0                                Put it in the freezer.   \n",
              "1                     Looks like a naughty spider to me   \n",
              "2     Theorists are idiots, experimentalists are idi...   \n",
              "3     Beautiful mysterious creatures.. unfortunately...   \n",
              "4     Typically, no. Depending on how peer review go...   \n",
              "...                                                 ...   \n",
              "8690  Also keep in mind those are just the three \"va...   \n",
              "8691  Loves phosphates and it turns pink based on th...   \n",
              "8692  Isn't an atom really small? And I have a hypot...   \n",
              "8693  Random question- is there a difference between...   \n",
              "8694  1. Draw the structure.\\n2. Select it.\\n3. Clic...   \n",
              "\n",
              "                                              Sin_Emoji  \\\n",
              "0                                Put it in the freezer.   \n",
              "1                     Looks like a naughty spider to me   \n",
              "2     Theorists are idiots, experimentalists are idi...   \n",
              "3     Beautiful mysterious creatures.. unfortunately...   \n",
              "4     Typically, no. Depending on how peer review go...   \n",
              "...                                                 ...   \n",
              "8690  Also keep in mind those are just the three \"va...   \n",
              "8691  Loves phosphates and it turns pink based on th...   \n",
              "8692  Isn't an atom really small? And I have a hypot...   \n",
              "8693  Random question- is there a difference between...   \n",
              "8694  1. Draw the structure.\\n2. Select it.\\n3. Clic...   \n",
              "\n",
              "                                     Sin_atributos_HTML  \\\n",
              "0                                Put it in the freezer.   \n",
              "1                     Looks like a naughty spider to me   \n",
              "2     Theorists are idiots, experimentalists are idi...   \n",
              "3     Beautiful mysterious creatures.. unfortunately...   \n",
              "4     Typically, no. Depending on how peer review go...   \n",
              "...                                                 ...   \n",
              "8690  Also keep in mind those are just the three \"va...   \n",
              "8691  Loves phosphates and it turns pink based on th...   \n",
              "8692  Isn't an atom really small? And I have a hypot...   \n",
              "8693  Random question- is there a difference between...   \n",
              "8694  1. Draw the structure.\\n2. Select it.\\n3. Clic...   \n",
              "\n",
              "                               Sin_signos_de_puntuacion  \\\n",
              "0                                 Put it in the freezer   \n",
              "1                     Looks like a naughty spider to me   \n",
              "2     Theorists are idiots experimentalists are idio...   \n",
              "3     Beautiful mysterious creatures unfortunately i...   \n",
              "4     Typically no Depending on how peer review goes...   \n",
              "...                                                 ...   \n",
              "8690  Also keep in mind those are just the three val...   \n",
              "8691  Loves phosphates and it turns pink based on th...   \n",
              "8692  Isnt an atom really small And I have a hypothe...   \n",
              "8693  Random question is there a difference between ...   \n",
              "8694  1 Draw the structuren2 Select itn3 Click on th...   \n",
              "\n",
              "                                         Con_minusculas  \n",
              "0                                 put it in the freezer  \n",
              "1                     looks like a naughty spider to me  \n",
              "2     theorists are idiots experimentalists are idio...  \n",
              "3     beautiful mysterious creatures unfortunately i...  \n",
              "4     typically no depending on how peer review goes...  \n",
              "...                                                 ...  \n",
              "8690  also keep in mind those are just the three val...  \n",
              "8691  loves phosphates and it turns pink based on th...  \n",
              "8692  isnt an atom really small and i have a hypothe...  \n",
              "8693  random question is there a difference between ...  \n",
              "8694  1 draw the structuren2 select itn3 click on th...  \n",
              "\n",
              "[8695 rows x 5 columns]"
            ],
            "text/html": [
              "\n",
              "  <div id=\"df-e1fba262-5d02-4734-aaa3-502902b8ca81\">\n",
              "    <div class=\"colab-df-container\">\n",
              "      <div>\n",
              "<style scoped>\n",
              "    .dataframe tbody tr th:only-of-type {\n",
              "        vertical-align: middle;\n",
              "    }\n",
              "\n",
              "    .dataframe tbody tr th {\n",
              "        vertical-align: top;\n",
              "    }\n",
              "\n",
              "    .dataframe thead th {\n",
              "        text-align: right;\n",
              "    }\n",
              "</style>\n",
              "<table border=\"1\" class=\"dataframe\">\n",
              "  <thead>\n",
              "    <tr style=\"text-align: right;\">\n",
              "      <th></th>\n",
              "      <th>Comment</th>\n",
              "      <th>Sin_Emoji</th>\n",
              "      <th>Sin_atributos_HTML</th>\n",
              "      <th>Sin_signos_de_puntuacion</th>\n",
              "      <th>Con_minusculas</th>\n",
              "    </tr>\n",
              "  </thead>\n",
              "  <tbody>\n",
              "    <tr>\n",
              "      <th>0</th>\n",
              "      <td>Put it in the freezer.</td>\n",
              "      <td>Put it in the freezer.</td>\n",
              "      <td>Put it in the freezer.</td>\n",
              "      <td>Put it in the freezer</td>\n",
              "      <td>put it in the freezer</td>\n",
              "    </tr>\n",
              "    <tr>\n",
              "      <th>1</th>\n",
              "      <td>Looks like a naughty spider to me</td>\n",
              "      <td>Looks like a naughty spider to me</td>\n",
              "      <td>Looks like a naughty spider to me</td>\n",
              "      <td>Looks like a naughty spider to me</td>\n",
              "      <td>looks like a naughty spider to me</td>\n",
              "    </tr>\n",
              "    <tr>\n",
              "      <th>2</th>\n",
              "      <td>Theorists are idiots, experimentalists are idi...</td>\n",
              "      <td>Theorists are idiots, experimentalists are idi...</td>\n",
              "      <td>Theorists are idiots, experimentalists are idi...</td>\n",
              "      <td>Theorists are idiots experimentalists are idio...</td>\n",
              "      <td>theorists are idiots experimentalists are idio...</td>\n",
              "    </tr>\n",
              "    <tr>\n",
              "      <th>3</th>\n",
              "      <td>Beautiful mysterious creatures.. unfortunately...</td>\n",
              "      <td>Beautiful mysterious creatures.. unfortunately...</td>\n",
              "      <td>Beautiful mysterious creatures.. unfortunately...</td>\n",
              "      <td>Beautiful mysterious creatures unfortunately i...</td>\n",
              "      <td>beautiful mysterious creatures unfortunately i...</td>\n",
              "    </tr>\n",
              "    <tr>\n",
              "      <th>4</th>\n",
              "      <td>Typically, no. Depending on how peer review go...</td>\n",
              "      <td>Typically, no. Depending on how peer review go...</td>\n",
              "      <td>Typically, no. Depending on how peer review go...</td>\n",
              "      <td>Typically no Depending on how peer review goes...</td>\n",
              "      <td>typically no depending on how peer review goes...</td>\n",
              "    </tr>\n",
              "    <tr>\n",
              "      <th>...</th>\n",
              "      <td>...</td>\n",
              "      <td>...</td>\n",
              "      <td>...</td>\n",
              "      <td>...</td>\n",
              "      <td>...</td>\n",
              "    </tr>\n",
              "    <tr>\n",
              "      <th>8690</th>\n",
              "      <td>Also keep in mind those are just the three \"va...</td>\n",
              "      <td>Also keep in mind those are just the three \"va...</td>\n",
              "      <td>Also keep in mind those are just the three \"va...</td>\n",
              "      <td>Also keep in mind those are just the three val...</td>\n",
              "      <td>also keep in mind those are just the three val...</td>\n",
              "    </tr>\n",
              "    <tr>\n",
              "      <th>8691</th>\n",
              "      <td>Loves phosphates and it turns pink based on th...</td>\n",
              "      <td>Loves phosphates and it turns pink based on th...</td>\n",
              "      <td>Loves phosphates and it turns pink based on th...</td>\n",
              "      <td>Loves phosphates and it turns pink based on th...</td>\n",
              "      <td>loves phosphates and it turns pink based on th...</td>\n",
              "    </tr>\n",
              "    <tr>\n",
              "      <th>8692</th>\n",
              "      <td>Isn't an atom really small? And I have a hypot...</td>\n",
              "      <td>Isn't an atom really small? And I have a hypot...</td>\n",
              "      <td>Isn't an atom really small? And I have a hypot...</td>\n",
              "      <td>Isnt an atom really small And I have a hypothe...</td>\n",
              "      <td>isnt an atom really small and i have a hypothe...</td>\n",
              "    </tr>\n",
              "    <tr>\n",
              "      <th>8693</th>\n",
              "      <td>Random question- is there a difference between...</td>\n",
              "      <td>Random question- is there a difference between...</td>\n",
              "      <td>Random question- is there a difference between...</td>\n",
              "      <td>Random question is there a difference between ...</td>\n",
              "      <td>random question is there a difference between ...</td>\n",
              "    </tr>\n",
              "    <tr>\n",
              "      <th>8694</th>\n",
              "      <td>1. Draw the structure.\\n2. Select it.\\n3. Clic...</td>\n",
              "      <td>1. Draw the structure.\\n2. Select it.\\n3. Clic...</td>\n",
              "      <td>1. Draw the structure.\\n2. Select it.\\n3. Clic...</td>\n",
              "      <td>1 Draw the structuren2 Select itn3 Click on th...</td>\n",
              "      <td>1 draw the structuren2 select itn3 click on th...</td>\n",
              "    </tr>\n",
              "  </tbody>\n",
              "</table>\n",
              "<p>8695 rows × 5 columns</p>\n",
              "</div>\n",
              "      <button class=\"colab-df-convert\" onclick=\"convertToInteractive('df-e1fba262-5d02-4734-aaa3-502902b8ca81')\"\n",
              "              title=\"Convert this dataframe to an interactive table.\"\n",
              "              style=\"display:none;\">\n",
              "        \n",
              "  <svg xmlns=\"http://www.w3.org/2000/svg\" height=\"24px\"viewBox=\"0 0 24 24\"\n",
              "       width=\"24px\">\n",
              "    <path d=\"M0 0h24v24H0V0z\" fill=\"none\"/>\n",
              "    <path d=\"M18.56 5.44l.94 2.06.94-2.06 2.06-.94-2.06-.94-.94-2.06-.94 2.06-2.06.94zm-11 1L8.5 8.5l.94-2.06 2.06-.94-2.06-.94L8.5 2.5l-.94 2.06-2.06.94zm10 10l.94 2.06.94-2.06 2.06-.94-2.06-.94-.94-2.06-.94 2.06-2.06.94z\"/><path d=\"M17.41 7.96l-1.37-1.37c-.4-.4-.92-.59-1.43-.59-.52 0-1.04.2-1.43.59L10.3 9.45l-7.72 7.72c-.78.78-.78 2.05 0 2.83L4 21.41c.39.39.9.59 1.41.59.51 0 1.02-.2 1.41-.59l7.78-7.78 2.81-2.81c.8-.78.8-2.07 0-2.86zM5.41 20L4 18.59l7.72-7.72 1.47 1.35L5.41 20z\"/>\n",
              "  </svg>\n",
              "      </button>\n",
              "      \n",
              "  <style>\n",
              "    .colab-df-container {\n",
              "      display:flex;\n",
              "      flex-wrap:wrap;\n",
              "      gap: 12px;\n",
              "    }\n",
              "\n",
              "    .colab-df-convert {\n",
              "      background-color: #E8F0FE;\n",
              "      border: none;\n",
              "      border-radius: 50%;\n",
              "      cursor: pointer;\n",
              "      display: none;\n",
              "      fill: #1967D2;\n",
              "      height: 32px;\n",
              "      padding: 0 0 0 0;\n",
              "      width: 32px;\n",
              "    }\n",
              "\n",
              "    .colab-df-convert:hover {\n",
              "      background-color: #E2EBFA;\n",
              "      box-shadow: 0px 1px 2px rgba(60, 64, 67, 0.3), 0px 1px 3px 1px rgba(60, 64, 67, 0.15);\n",
              "      fill: #174EA6;\n",
              "    }\n",
              "\n",
              "    [theme=dark] .colab-df-convert {\n",
              "      background-color: #3B4455;\n",
              "      fill: #D2E3FC;\n",
              "    }\n",
              "\n",
              "    [theme=dark] .colab-df-convert:hover {\n",
              "      background-color: #434B5C;\n",
              "      box-shadow: 0px 1px 3px 1px rgba(0, 0, 0, 0.15);\n",
              "      filter: drop-shadow(0px 1px 2px rgba(0, 0, 0, 0.3));\n",
              "      fill: #FFFFFF;\n",
              "    }\n",
              "  </style>\n",
              "\n",
              "      <script>\n",
              "        const buttonEl =\n",
              "          document.querySelector('#df-e1fba262-5d02-4734-aaa3-502902b8ca81 button.colab-df-convert');\n",
              "        buttonEl.style.display =\n",
              "          google.colab.kernel.accessAllowed ? 'block' : 'none';\n",
              "\n",
              "        async function convertToInteractive(key) {\n",
              "          const element = document.querySelector('#df-e1fba262-5d02-4734-aaa3-502902b8ca81');\n",
              "          const dataTable =\n",
              "            await google.colab.kernel.invokeFunction('convertToInteractive',\n",
              "                                                     [key], {});\n",
              "          if (!dataTable) return;\n",
              "\n",
              "          const docLinkHtml = 'Like what you see? Visit the ' +\n",
              "            '<a target=\"_blank\" href=https://colab.research.google.com/notebooks/data_table.ipynb>data table notebook</a>'\n",
              "            + ' to learn more about interactive tables.';\n",
              "          element.innerHTML = '';\n",
              "          dataTable['output_type'] = 'display_data';\n",
              "          await google.colab.output.renderOutput(dataTable, element);\n",
              "          const docLink = document.createElement('div');\n",
              "          docLink.innerHTML = docLinkHtml;\n",
              "          element.appendChild(docLink);\n",
              "        }\n",
              "      </script>\n",
              "    </div>\n",
              "  </div>\n",
              "  "
            ]
          },
          "metadata": {},
          "execution_count": 205
        }
      ]
    },
    {
      "cell_type": "markdown",
      "source": [
        "Test comments"
      ],
      "metadata": {
        "id": "dar2dbBeJTtu"
      }
    },
    {
      "cell_type": "markdown",
      "source": [
        "Se hace lo mismo para los comentarios de prueba"
      ],
      "metadata": {
        "id": "XcvfwLzt4zo1"
      }
    },
    {
      "cell_type": "code",
      "source": [
        "test_comments['Sin_Emoji'] = test_comments['Comment'].apply(lambda x: deEmojify(x))\n",
        "test_comments['Sin_atributos_HTML'] = test_comments['Sin_Emoji'].apply(lambda x: remove_html(x))\n",
        "test_comments[\"Sin_signos_de_puntuacion\"] = test_comments[\"Sin_atributos_HTML\"].apply(lambda text: remove_punctuation(text))\n",
        "test_comments[\"Con_minusculas\"] = test_comments[\"Sin_signos_de_puntuacion\"].str.lower()"
      ],
      "metadata": {
        "id": "pXOUHqYAJVUz",
        "colab": {
          "base_uri": "https://localhost:8080/"
        },
        "outputId": "0d7462bf-94b7-4a22-d791-bde1bfb04438"
      },
      "execution_count": null,
      "outputs": [
        {
          "output_type": "stream",
          "name": "stderr",
          "text": [
            "<ipython-input-206-50fff5a8c556>:1: SettingWithCopyWarning: \n",
            "A value is trying to be set on a copy of a slice from a DataFrame.\n",
            "Try using .loc[row_indexer,col_indexer] = value instead\n",
            "\n",
            "See the caveats in the documentation: https://pandas.pydata.org/pandas-docs/stable/user_guide/indexing.html#returning-a-view-versus-a-copy\n",
            "  test_comments['Sin_Emoji'] = test_comments['Comment'].apply(lambda x: deEmojify(x))\n"
          ]
        }
      ]
    },
    {
      "cell_type": "code",
      "source": [
        "test_comments"
      ],
      "metadata": {
        "colab": {
          "base_uri": "https://localhost:8080/",
          "height": 641
        },
        "id": "A1wYAXydJXYC",
        "outputId": "37f0b4ce-1ca6-4aed-b956-6c177e07d099"
      },
      "execution_count": null,
      "outputs": [
        {
          "output_type": "execute_result",
          "data": {
            "text/plain": [
              "                                                Comment  \\\n",
              "0     When you clean this gunk off, -> Absolutely, d...   \n",
              "1     You are correct that that’s a wood frog (Rana ...   \n",
              "2     I do. And I think what you say isn't actually ...   \n",
              "3     I know this answer, but again no source, if yo...   \n",
              "4     This is really interesting because I didn't re...   \n",
              "...                                                 ...   \n",
              "1581  Possibly. Denaturation is not the same thing a...   \n",
              "1582  typically bike handlebar rotation axis is not ...   \n",
              "1583  In this hypothetical case, the pain she percei...   \n",
              "1584  Just to be clear, the sun is made of gas/plasm...   \n",
              "1585  Agree.  Had the two jabs.  No issues with firs...   \n",
              "\n",
              "                                              Sin_Emoji  \\\n",
              "0     When you clean this gunk off, -> Absolutely, d...   \n",
              "1     You are correct that that’s a wood frog (Rana ...   \n",
              "2     I do. And I think what you say isn't actually ...   \n",
              "3     I know this answer, but again no source, if yo...   \n",
              "4     This is really interesting because I didn't re...   \n",
              "...                                                 ...   \n",
              "1581  Possibly. Denaturation is not the same thing a...   \n",
              "1582  typically bike handlebar rotation axis is not ...   \n",
              "1583  In this hypothetical case, the pain she percei...   \n",
              "1584  Just to be clear, the sun is made of gas/plasm...   \n",
              "1585  Agree.  Had the two jabs.  No issues with firs...   \n",
              "\n",
              "                                     Sin_atributos_HTML  \\\n",
              "0     When you clean this gunk off, -> Absolutely, d...   \n",
              "1     You are correct that that’s a wood frog (Rana ...   \n",
              "2     I do. And I think what you say isn't actually ...   \n",
              "3     I know this answer, but again no source, if yo...   \n",
              "4     This is really interesting because I didn't re...   \n",
              "...                                                 ...   \n",
              "1581  Possibly. Denaturation is not the same thing a...   \n",
              "1582  typically bike handlebar rotation axis is not ...   \n",
              "1583  In this hypothetical case, the pain she percei...   \n",
              "1584  Just to be clear, the sun is made of gas/plasm...   \n",
              "1585  Agree.  Had the two jabs.  No issues with firs...   \n",
              "\n",
              "                               Sin_signos_de_puntuacion  \\\n",
              "0     When you clean this gunk off  Absolutely do no...   \n",
              "1     You are correct that that’s a wood frog Rana s...   \n",
              "2     I do And I think what you say isnt actually tr...   \n",
              "3     I know this answer but again no source if you ...   \n",
              "4     This is really interesting because I didnt rea...   \n",
              "...                                                 ...   \n",
              "1581  Possibly Denaturation is not the same thing as...   \n",
              "1582  typically bike handlebar rotation axis is not ...   \n",
              "1583  In this hypothetical case the pain she perceiv...   \n",
              "1584  Just to be clear the sun is made of gasplasma ...   \n",
              "1585  Agree  Had the two jabs  No issues with first ...   \n",
              "\n",
              "                                         Con_minusculas  \n",
              "0     when you clean this gunk off  absolutely do no...  \n",
              "1     you are correct that that’s a wood frog rana s...  \n",
              "2     i do and i think what you say isnt actually tr...  \n",
              "3     i know this answer but again no source if you ...  \n",
              "4     this is really interesting because i didnt rea...  \n",
              "...                                                 ...  \n",
              "1581  possibly denaturation is not the same thing as...  \n",
              "1582  typically bike handlebar rotation axis is not ...  \n",
              "1583  in this hypothetical case the pain she perceiv...  \n",
              "1584  just to be clear the sun is made of gasplasma ...  \n",
              "1585  agree  had the two jabs  no issues with first ...  \n",
              "\n",
              "[1586 rows x 5 columns]"
            ],
            "text/html": [
              "\n",
              "  <div id=\"df-f51e8cf5-ccc5-44d2-ba92-d526703cd4d8\">\n",
              "    <div class=\"colab-df-container\">\n",
              "      <div>\n",
              "<style scoped>\n",
              "    .dataframe tbody tr th:only-of-type {\n",
              "        vertical-align: middle;\n",
              "    }\n",
              "\n",
              "    .dataframe tbody tr th {\n",
              "        vertical-align: top;\n",
              "    }\n",
              "\n",
              "    .dataframe thead th {\n",
              "        text-align: right;\n",
              "    }\n",
              "</style>\n",
              "<table border=\"1\" class=\"dataframe\">\n",
              "  <thead>\n",
              "    <tr style=\"text-align: right;\">\n",
              "      <th></th>\n",
              "      <th>Comment</th>\n",
              "      <th>Sin_Emoji</th>\n",
              "      <th>Sin_atributos_HTML</th>\n",
              "      <th>Sin_signos_de_puntuacion</th>\n",
              "      <th>Con_minusculas</th>\n",
              "    </tr>\n",
              "  </thead>\n",
              "  <tbody>\n",
              "    <tr>\n",
              "      <th>0</th>\n",
              "      <td>When you clean this gunk off, -&gt; Absolutely, d...</td>\n",
              "      <td>When you clean this gunk off, -&gt; Absolutely, d...</td>\n",
              "      <td>When you clean this gunk off, -&gt; Absolutely, d...</td>\n",
              "      <td>When you clean this gunk off  Absolutely do no...</td>\n",
              "      <td>when you clean this gunk off  absolutely do no...</td>\n",
              "    </tr>\n",
              "    <tr>\n",
              "      <th>1</th>\n",
              "      <td>You are correct that that’s a wood frog (Rana ...</td>\n",
              "      <td>You are correct that that’s a wood frog (Rana ...</td>\n",
              "      <td>You are correct that that’s a wood frog (Rana ...</td>\n",
              "      <td>You are correct that that’s a wood frog Rana s...</td>\n",
              "      <td>you are correct that that’s a wood frog rana s...</td>\n",
              "    </tr>\n",
              "    <tr>\n",
              "      <th>2</th>\n",
              "      <td>I do. And I think what you say isn't actually ...</td>\n",
              "      <td>I do. And I think what you say isn't actually ...</td>\n",
              "      <td>I do. And I think what you say isn't actually ...</td>\n",
              "      <td>I do And I think what you say isnt actually tr...</td>\n",
              "      <td>i do and i think what you say isnt actually tr...</td>\n",
              "    </tr>\n",
              "    <tr>\n",
              "      <th>3</th>\n",
              "      <td>I know this answer, but again no source, if yo...</td>\n",
              "      <td>I know this answer, but again no source, if yo...</td>\n",
              "      <td>I know this answer, but again no source, if yo...</td>\n",
              "      <td>I know this answer but again no source if you ...</td>\n",
              "      <td>i know this answer but again no source if you ...</td>\n",
              "    </tr>\n",
              "    <tr>\n",
              "      <th>4</th>\n",
              "      <td>This is really interesting because I didn't re...</td>\n",
              "      <td>This is really interesting because I didn't re...</td>\n",
              "      <td>This is really interesting because I didn't re...</td>\n",
              "      <td>This is really interesting because I didnt rea...</td>\n",
              "      <td>this is really interesting because i didnt rea...</td>\n",
              "    </tr>\n",
              "    <tr>\n",
              "      <th>...</th>\n",
              "      <td>...</td>\n",
              "      <td>...</td>\n",
              "      <td>...</td>\n",
              "      <td>...</td>\n",
              "      <td>...</td>\n",
              "    </tr>\n",
              "    <tr>\n",
              "      <th>1581</th>\n",
              "      <td>Possibly. Denaturation is not the same thing a...</td>\n",
              "      <td>Possibly. Denaturation is not the same thing a...</td>\n",
              "      <td>Possibly. Denaturation is not the same thing a...</td>\n",
              "      <td>Possibly Denaturation is not the same thing as...</td>\n",
              "      <td>possibly denaturation is not the same thing as...</td>\n",
              "    </tr>\n",
              "    <tr>\n",
              "      <th>1582</th>\n",
              "      <td>typically bike handlebar rotation axis is not ...</td>\n",
              "      <td>typically bike handlebar rotation axis is not ...</td>\n",
              "      <td>typically bike handlebar rotation axis is not ...</td>\n",
              "      <td>typically bike handlebar rotation axis is not ...</td>\n",
              "      <td>typically bike handlebar rotation axis is not ...</td>\n",
              "    </tr>\n",
              "    <tr>\n",
              "      <th>1583</th>\n",
              "      <td>In this hypothetical case, the pain she percei...</td>\n",
              "      <td>In this hypothetical case, the pain she percei...</td>\n",
              "      <td>In this hypothetical case, the pain she percei...</td>\n",
              "      <td>In this hypothetical case the pain she perceiv...</td>\n",
              "      <td>in this hypothetical case the pain she perceiv...</td>\n",
              "    </tr>\n",
              "    <tr>\n",
              "      <th>1584</th>\n",
              "      <td>Just to be clear, the sun is made of gas/plasm...</td>\n",
              "      <td>Just to be clear, the sun is made of gas/plasm...</td>\n",
              "      <td>Just to be clear, the sun is made of gas/plasm...</td>\n",
              "      <td>Just to be clear the sun is made of gasplasma ...</td>\n",
              "      <td>just to be clear the sun is made of gasplasma ...</td>\n",
              "    </tr>\n",
              "    <tr>\n",
              "      <th>1585</th>\n",
              "      <td>Agree.  Had the two jabs.  No issues with firs...</td>\n",
              "      <td>Agree.  Had the two jabs.  No issues with firs...</td>\n",
              "      <td>Agree.  Had the two jabs.  No issues with firs...</td>\n",
              "      <td>Agree  Had the two jabs  No issues with first ...</td>\n",
              "      <td>agree  had the two jabs  no issues with first ...</td>\n",
              "    </tr>\n",
              "  </tbody>\n",
              "</table>\n",
              "<p>1586 rows × 5 columns</p>\n",
              "</div>\n",
              "      <button class=\"colab-df-convert\" onclick=\"convertToInteractive('df-f51e8cf5-ccc5-44d2-ba92-d526703cd4d8')\"\n",
              "              title=\"Convert this dataframe to an interactive table.\"\n",
              "              style=\"display:none;\">\n",
              "        \n",
              "  <svg xmlns=\"http://www.w3.org/2000/svg\" height=\"24px\"viewBox=\"0 0 24 24\"\n",
              "       width=\"24px\">\n",
              "    <path d=\"M0 0h24v24H0V0z\" fill=\"none\"/>\n",
              "    <path d=\"M18.56 5.44l.94 2.06.94-2.06 2.06-.94-2.06-.94-.94-2.06-.94 2.06-2.06.94zm-11 1L8.5 8.5l.94-2.06 2.06-.94-2.06-.94L8.5 2.5l-.94 2.06-2.06.94zm10 10l.94 2.06.94-2.06 2.06-.94-2.06-.94-.94-2.06-.94 2.06-2.06.94z\"/><path d=\"M17.41 7.96l-1.37-1.37c-.4-.4-.92-.59-1.43-.59-.52 0-1.04.2-1.43.59L10.3 9.45l-7.72 7.72c-.78.78-.78 2.05 0 2.83L4 21.41c.39.39.9.59 1.41.59.51 0 1.02-.2 1.41-.59l7.78-7.78 2.81-2.81c.8-.78.8-2.07 0-2.86zM5.41 20L4 18.59l7.72-7.72 1.47 1.35L5.41 20z\"/>\n",
              "  </svg>\n",
              "      </button>\n",
              "      \n",
              "  <style>\n",
              "    .colab-df-container {\n",
              "      display:flex;\n",
              "      flex-wrap:wrap;\n",
              "      gap: 12px;\n",
              "    }\n",
              "\n",
              "    .colab-df-convert {\n",
              "      background-color: #E8F0FE;\n",
              "      border: none;\n",
              "      border-radius: 50%;\n",
              "      cursor: pointer;\n",
              "      display: none;\n",
              "      fill: #1967D2;\n",
              "      height: 32px;\n",
              "      padding: 0 0 0 0;\n",
              "      width: 32px;\n",
              "    }\n",
              "\n",
              "    .colab-df-convert:hover {\n",
              "      background-color: #E2EBFA;\n",
              "      box-shadow: 0px 1px 2px rgba(60, 64, 67, 0.3), 0px 1px 3px 1px rgba(60, 64, 67, 0.15);\n",
              "      fill: #174EA6;\n",
              "    }\n",
              "\n",
              "    [theme=dark] .colab-df-convert {\n",
              "      background-color: #3B4455;\n",
              "      fill: #D2E3FC;\n",
              "    }\n",
              "\n",
              "    [theme=dark] .colab-df-convert:hover {\n",
              "      background-color: #434B5C;\n",
              "      box-shadow: 0px 1px 3px 1px rgba(0, 0, 0, 0.15);\n",
              "      filter: drop-shadow(0px 1px 2px rgba(0, 0, 0, 0.3));\n",
              "      fill: #FFFFFF;\n",
              "    }\n",
              "  </style>\n",
              "\n",
              "      <script>\n",
              "        const buttonEl =\n",
              "          document.querySelector('#df-f51e8cf5-ccc5-44d2-ba92-d526703cd4d8 button.colab-df-convert');\n",
              "        buttonEl.style.display =\n",
              "          google.colab.kernel.accessAllowed ? 'block' : 'none';\n",
              "\n",
              "        async function convertToInteractive(key) {\n",
              "          const element = document.querySelector('#df-f51e8cf5-ccc5-44d2-ba92-d526703cd4d8');\n",
              "          const dataTable =\n",
              "            await google.colab.kernel.invokeFunction('convertToInteractive',\n",
              "                                                     [key], {});\n",
              "          if (!dataTable) return;\n",
              "\n",
              "          const docLinkHtml = 'Like what you see? Visit the ' +\n",
              "            '<a target=\"_blank\" href=https://colab.research.google.com/notebooks/data_table.ipynb>data table notebook</a>'\n",
              "            + ' to learn more about interactive tables.';\n",
              "          element.innerHTML = '';\n",
              "          dataTable['output_type'] = 'display_data';\n",
              "          await google.colab.output.renderOutput(dataTable, element);\n",
              "          const docLink = document.createElement('div');\n",
              "          docLink.innerHTML = docLinkHtml;\n",
              "          element.appendChild(docLink);\n",
              "        }\n",
              "      </script>\n",
              "    </div>\n",
              "  </div>\n",
              "  "
            ]
          },
          "metadata": {},
          "execution_count": 207
        }
      ]
    },
    {
      "cell_type": "markdown",
      "source": [
        "# Label Encoder"
      ],
      "metadata": {
        "id": "AZBcYxsuplvu"
      }
    },
    {
      "cell_type": "code",
      "source": [
        "import tensorflow\n",
        "from sklearn import preprocessing\n",
        "from tensorflow.keras.utils import to_categorical\n",
        "le = preprocessing.LabelEncoder()"
      ],
      "metadata": {
        "id": "QMbrGAWpmlqY"
      },
      "execution_count": null,
      "outputs": []
    },
    {
      "cell_type": "code",
      "source": [
        "test_topic['Topic']"
      ],
      "metadata": {
        "colab": {
          "base_uri": "https://localhost:8080/"
        },
        "id": "Quk4YSmXoxzv",
        "outputId": "e7749ae7-086f-4e37-99ca-86389ca6c74b"
      },
      "execution_count": null,
      "outputs": [
        {
          "output_type": "execute_result",
          "data": {
            "text/plain": [
              "0         Biology\n",
              "1         Biology\n",
              "2         Biology\n",
              "3         Biology\n",
              "4       Chemistry\n",
              "          ...    \n",
              "1581    Chemistry\n",
              "1582      Physics\n",
              "1583      Biology\n",
              "1584      Physics\n",
              "1585      Biology\n",
              "Name: Topic, Length: 1586, dtype: object"
            ]
          },
          "metadata": {},
          "execution_count": 209
        }
      ]
    },
    {
      "cell_type": "code",
      "source": [
        "train_labels = le.fit_transform(train_topic['Topic'])\n",
        "test_labels = le.fit_transform(test_topic['Topic'])"
      ],
      "metadata": {
        "id": "Ml0vVKVEoyHW"
      },
      "execution_count": null,
      "outputs": []
    },
    {
      "cell_type": "code",
      "source": [
        "print(train_labels)\n",
        "print(test_labels)"
      ],
      "metadata": {
        "colab": {
          "base_uri": "https://localhost:8080/"
        },
        "id": "pHjxEfTho-ot",
        "outputId": "d348f773-d200-4e4d-96a1-e7b76be06213"
      },
      "execution_count": null,
      "outputs": [
        {
          "output_type": "stream",
          "name": "stdout",
          "text": [
            "[0 0 2 ... 0 0 1]\n",
            "[0 0 0 ... 0 2 0]\n"
          ]
        }
      ]
    },
    {
      "cell_type": "code",
      "source": [
        "y_train = to_categorical(train_labels)\n",
        "y_test = to_categorical(test_labels)"
      ],
      "metadata": {
        "id": "RJUZP97BNXWy"
      },
      "execution_count": null,
      "outputs": []
    },
    {
      "cell_type": "code",
      "source": [
        "print(y_train)\n",
        "#print(y_test)"
      ],
      "metadata": {
        "colab": {
          "base_uri": "https://localhost:8080/"
        },
        "id": "bkpTSvdxN4_Y",
        "outputId": "19c4b332-f1ae-4f75-c9e6-38df0ac41d96"
      },
      "execution_count": null,
      "outputs": [
        {
          "output_type": "stream",
          "name": "stdout",
          "text": [
            "[[1. 0. 0.]\n",
            " [1. 0. 0.]\n",
            " [0. 0. 1.]\n",
            " ...\n",
            " [1. 0. 0.]\n",
            " [1. 0. 0.]\n",
            " [0. 1. 0.]]\n"
          ]
        }
      ]
    },
    {
      "cell_type": "code",
      "source": [
        "import nltk\n",
        "from nltk.corpus import stopwords"
      ],
      "metadata": {
        "id": "T3Hu-QPt8n9-"
      },
      "execution_count": null,
      "outputs": []
    },
    {
      "cell_type": "code",
      "source": [
        "nltk.download('stopwords')"
      ],
      "metadata": {
        "colab": {
          "base_uri": "https://localhost:8080/"
        },
        "id": "WUBYOmWF8pjz",
        "outputId": "3ef05d45-a4b0-4785-de84-f4a521e45cc2"
      },
      "execution_count": null,
      "outputs": [
        {
          "output_type": "stream",
          "name": "stderr",
          "text": [
            "[nltk_data] Downloading package stopwords to /root/nltk_data...\n",
            "[nltk_data]   Package stopwords is already up-to-date!\n"
          ]
        },
        {
          "output_type": "execute_result",
          "data": {
            "text/plain": [
              "True"
            ]
          },
          "metadata": {},
          "execution_count": 215
        }
      ]
    },
    {
      "cell_type": "code",
      "source": [
        "stopwords = nltk.corpus.stopwords.words('english')"
      ],
      "metadata": {
        "id": "BLqAGueh8sZW"
      },
      "execution_count": null,
      "outputs": []
    },
    {
      "cell_type": "code",
      "source": [
        "from sklearn.feature_extraction.text import  TfidfVectorizer\n",
        "from sklearn.feature_extraction.text import  CountVectorizer\n",
        "\n",
        "contador = CountVectorizer(stop_words=stopwords)\n",
        "vectorizador = TfidfVectorizer(stop_words=stopwords)\n",
        " \n",
        "cantidades = contador.fit_transform(train_comments['Con_minusculas'])\n",
        "valores = vectorizador.fit_transform(train_comments['Con_minusculas'])"
      ],
      "metadata": {
        "id": "O8GGj0gbrTQc"
      },
      "execution_count": null,
      "outputs": []
    },
    {
      "cell_type": "code",
      "source": [
        "vocabulary1 = vectorizador.get_feature_names_out()"
      ],
      "metadata": {
        "id": "S8LuTFSrYuTu"
      },
      "execution_count": null,
      "outputs": []
    },
    {
      "cell_type": "code",
      "source": [
        "contador = CountVectorizer(stop_words=stopwords, vocabulary = vocabulary1)\n",
        "vectorizador = TfidfVectorizer(stop_words=stopwords, vocabulary = vocabulary1)\n",
        "\n",
        "cantidades1 = contador.fit_transform(test_comments['Con_minusculas'])\n",
        "valores1 = vectorizador.fit_transform(test_comments['Con_minusculas'])"
      ],
      "metadata": {
        "id": "o8r-DEUNeVHF"
      },
      "execution_count": null,
      "outputs": []
    },
    {
      "cell_type": "code",
      "source": [
        "#print (\"--- Palabras ---\")\n",
        "print(len(vectorizador.get_feature_names_out()))\n",
        "#print(vectorizador.get_feature_names_out())\n",
        "#print (\"... Vector de cantidades ...\")\n",
        "#print (cantidades[8694])\n",
        "print (\"¨¨¨ Vector de valores ¨¨\")\n",
        "print (valores[1])\n",
        "print (valores.toarray()[1][7905])"
      ],
      "metadata": {
        "colab": {
          "base_uri": "https://localhost:8080/"
        },
        "id": "DyLMHm7WxSdT",
        "outputId": "38f59836-cb82-4d9e-ddb5-8c0a713daaa0"
      },
      "execution_count": null,
      "outputs": [
        {
          "output_type": "stream",
          "name": "stdout",
          "text": [
            "19720\n",
            "¨¨¨ Vector de valores ¨¨\n",
            "  (0, 16511)\t0.5477185497622011\n",
            "  (0, 11439)\t0.6945884476016101\n",
            "  (0, 9979)\t0.25475682390069326\n",
            "  (0, 10159)\t0.3907047982566987\n",
            "0.0\n"
          ]
        }
      ]
    },
    {
      "cell_type": "code",
      "source": [
        "train_comments['Con_minusculas'][1]"
      ],
      "metadata": {
        "colab": {
          "base_uri": "https://localhost:8080/"
        },
        "id": "IUeNXlqKxydz",
        "outputId": "25937adc-9b04-4798-8102-3c44b4a0af95"
      },
      "execution_count": null,
      "outputs": [
        {
          "output_type": "execute_result",
          "data": {
            "text/plain": [
              "'looks like a naughty spider to me'"
            ],
            "application/vnd.google.colaboratory.intrinsic+json": {
              "type": "string"
            }
          },
          "metadata": {},
          "execution_count": 221
        }
      ]
    },
    {
      "cell_type": "code",
      "source": [
        "vectorizador.get_feature_names_out()[7905]"
      ],
      "metadata": {
        "colab": {
          "base_uri": "https://localhost:8080/"
        },
        "id": "tEukBVQnzgiw",
        "outputId": "3e20bff8-b466-4749-9a9b-febf4c89065b"
      },
      "execution_count": null,
      "outputs": [
        {
          "output_type": "execute_result",
          "data": {
            "text/plain": [
              "'hand'"
            ],
            "application/vnd.google.colaboratory.intrinsic+json": {
              "type": "string"
            }
          },
          "metadata": {},
          "execution_count": 222
        }
      ]
    },
    {
      "cell_type": "code",
      "source": [
        "print(contador.vocabulary_['radiation'])"
      ],
      "metadata": {
        "id": "02abQF2fzsPA",
        "colab": {
          "base_uri": "https://localhost:8080/"
        },
        "outputId": "a36843bf-3615-4e5f-9014-8017c96f4ad3"
      },
      "execution_count": null,
      "outputs": [
        {
          "output_type": "stream",
          "name": "stdout",
          "text": [
            "14323\n"
          ]
        }
      ]
    },
    {
      "cell_type": "code",
      "source": [
        "print(contador.get_feature_names_out()[14323])"
      ],
      "metadata": {
        "colab": {
          "base_uri": "https://localhost:8080/"
        },
        "id": "o2QU5cXd-n4Y",
        "outputId": "c425994a-9b2f-458d-fe4e-2589c10656c1"
      },
      "execution_count": null,
      "outputs": [
        {
          "output_type": "stream",
          "name": "stdout",
          "text": [
            "radiation\n"
          ]
        }
      ]
    },
    {
      "cell_type": "code",
      "source": [
        "x_train = valores.toarray()\n",
        "x_test = valores1.toarray()"
      ],
      "metadata": {
        "id": "kMqKoxPIE0vm"
      },
      "execution_count": null,
      "outputs": []
    },
    {
      "cell_type": "code",
      "source": [
        "x_test.shape"
      ],
      "metadata": {
        "colab": {
          "base_uri": "https://localhost:8080/"
        },
        "id": "OtsxXVPvLSWV",
        "outputId": "7fa0678e-9aec-4c9a-c9fd-48cc3b5bb484"
      },
      "execution_count": null,
      "outputs": [
        {
          "output_type": "execute_result",
          "data": {
            "text/plain": [
              "(1586, 19720)"
            ]
          },
          "metadata": {},
          "execution_count": 226
        }
      ]
    },
    {
      "cell_type": "code",
      "source": [
        "x_test"
      ],
      "metadata": {
        "colab": {
          "base_uri": "https://localhost:8080/"
        },
        "id": "d1se6cbuI0Iv",
        "outputId": "30c52405-4bf7-494a-dc22-f42ae5b2291b"
      },
      "execution_count": null,
      "outputs": [
        {
          "output_type": "execute_result",
          "data": {
            "text/plain": [
              "array([[0., 0., 0., ..., 0., 0., 0.],\n",
              "       [0., 0., 0., ..., 0., 0., 0.],\n",
              "       [0., 0., 0., ..., 0., 0., 0.],\n",
              "       ...,\n",
              "       [0., 0., 0., ..., 0., 0., 0.],\n",
              "       [0., 0., 0., ..., 0., 0., 0.],\n",
              "       [0., 0., 0., ..., 0., 0., 0.]])"
            ]
          },
          "metadata": {},
          "execution_count": 227
        }
      ]
    },
    {
      "cell_type": "code",
      "source": [
        "#print (\"--- Palabras ---\")\n",
        "#print(len(vectorizador.get_feature_names_out()))\n",
        "#print(vectorizador.get_feature_names_out())\n",
        "#print (\"... Vector de cantidades ...\")\n",
        "#print (cantidades1[0])\n",
        "print (\"¨¨¨ Vector de valores ¨¨\")\n",
        "print (valores1[0])\n",
        "print (valores1.toarray()[0][4863])"
      ],
      "metadata": {
        "colab": {
          "base_uri": "https://localhost:8080/"
        },
        "id": "gfKvKXKCKEae",
        "outputId": "f11f697e-b045-4edd-a31e-d50932f4fa61"
      },
      "execution_count": null,
      "outputs": [
        {
          "output_type": "stream",
          "name": "stdout",
          "text": [
            "¨¨¨ Vector de valores ¨¨\n",
            "  (0, 19478)\t0.11361689152706068\n",
            "  (0, 18920)\t0.12529653160288678\n",
            "  (0, 18693)\t0.08645028944547048\n",
            "  (0, 18680)\t0.1516325198537181\n",
            "  (0, 18314)\t0.07810890079488926\n",
            "  (0, 17948)\t0.12529653160288678\n",
            "  (0, 17317)\t0.15582864382457698\n",
            "  (0, 16807)\t0.1335272956641458\n",
            "  (0, 16329)\t0.09954630742788859\n",
            "  (0, 16040)\t0.10154459777962681\n",
            "  (0, 15324)\t0.11945671156497373\n",
            "  (0, 15250)\t0.1335272956641458\n",
            "  (0, 15105)\t0.2670545913282916\n",
            "  (0, 14820)\t0.14175805972540487\n",
            "  (0, 14782)\t0.12529653160288678\n",
            "  (0, 14458)\t0.08645028944547048\n",
            "  (0, 13853)\t0.08747401368045474\n",
            "  (0, 13723)\t0.13039810439671282\n",
            "  (0, 13558)\t0.15582864382457698\n",
            "  (0, 13394)\t0.21077225493160326\n",
            "  (0, 13250)\t0.1335272956641458\n",
            "  (0, 13199)\t0.14175805972540487\n",
            "  (0, 10442)\t0.13039810439671282\n",
            "  (0, 10240)\t0.11492699523197485\n",
            "  (0, 10238)\t0.12529653160288678\n",
            "  :\t:\n",
            "  (0, 9644)\t0.137228343392406\n",
            "  (0, 9537)\t0.1090871751940618\n",
            "  (0, 9498)\t0.09131554336662953\n",
            "  (0, 7794)\t0.13039810439671282\n",
            "  (0, 7760)\t0.15582864382457698\n",
            "  (0, 7550)\t0.137228343392406\n",
            "  (0, 7530)\t0.1335272956641458\n",
            "  (0, 7375)\t0.15582864382457698\n",
            "  (0, 6910)\t0.13039810439671282\n",
            "  (0, 6846)\t0.1335272956641458\n",
            "  (0, 6534)\t0.12529653160288678\n",
            "  (0, 6514)\t0.12122300439837792\n",
            "  (0, 4927)\t0.28351611945080973\n",
            "  (0, 4681)\t0.1090871751940618\n",
            "  (0, 3423)\t0.12529653160288678\n",
            "  (0, 3418)\t0.11361689152706068\n",
            "  (0, 3306)\t0.15582864382457698\n",
            "  (0, 3195)\t0.10085641113280275\n",
            "  (0, 2909)\t0.2670545913282916\n",
            "  (0, 2516)\t0.14175805972540487\n",
            "  (0, 2271)\t0.12122300439837792\n",
            "  (0, 1795)\t0.09308183620003374\n",
            "  (0, 1304)\t0.0833686938901171\n",
            "  (0, 1122)\t0.08612020799547035\n",
            "  (0, 575)\t0.10809675623628168\n",
            "0.0\n"
          ]
        }
      ]
    },
    {
      "cell_type": "code",
      "source": [
        "test_comments['Con_minusculas'][0]"
      ],
      "metadata": {
        "colab": {
          "base_uri": "https://localhost:8080/"
        },
        "id": "b2QXFMbIKMVh",
        "outputId": "a3addbdd-86cd-4dc1-f06f-35cdfba14126"
      },
      "execution_count": null,
      "outputs": [
        {
          "output_type": "execute_result",
          "data": {
            "text/plain": [
              "'when you clean this gunk off  absolutely do not use vinegar and bleach togetherever  a single deep breath can destroy your lungs and can kill you and that can destroy the gaskets and chrome i prefer trisodium phosphate and rinse and sometimes causticsoda with another rinse for tackling porcelain problem i’m guessing but the rubber flapper should be removed and replaced be careful always use safety glasses a mask gloves and keep your fingers away from your face it’s not worth losing a lung or an eye or two over cleaning toilet please read the labels and please be careful when using chemicals picked up at local grocery store'"
            ],
            "application/vnd.google.colaboratory.intrinsic+json": {
              "type": "string"
            }
          },
          "metadata": {},
          "execution_count": 229
        }
      ]
    },
    {
      "cell_type": "code",
      "source": [
        "vectorizador.get_feature_names_out()[4863]"
      ],
      "metadata": {
        "colab": {
          "base_uri": "https://localhost:8080/"
        },
        "id": "FTGueeeJKOmK",
        "outputId": "3f8b80b7-e111-4fc7-c31d-f52b98e5816b"
      },
      "execution_count": null,
      "outputs": [
        {
          "output_type": "execute_result",
          "data": {
            "text/plain": [
              "'derivations'"
            ],
            "application/vnd.google.colaboratory.intrinsic+json": {
              "type": "string"
            }
          },
          "metadata": {},
          "execution_count": 230
        }
      ]
    },
    {
      "cell_type": "markdown",
      "source": [
        "# Creacion del modelo"
      ],
      "metadata": {
        "id": "0ek8bDoSGSQn"
      }
    },
    {
      "cell_type": "code",
      "source": [
        "from tensorflow import keras\n",
        "from tensorflow.keras import layers\n",
        "from tensorflow.keras import regularizers\n",
        "\n",
        "model = keras.Sequential([\n",
        "    layers.Dense(16, activation=\"relu\", kernel_regularizer = regularizers.l2(l2 = 0.001) ),\n",
        "    layers.Dropout(0.5),\n",
        "    layers.Dense(8, activation=\"relu\"), #kernel_regularizer = regularizers.l1_l2(l1 = 0.0001, l2 = 0.0002)\n",
        "    layers.Dropout(0.35),\n",
        "    layers.Dense(3, activation=\"softmax\")\n",
        "])"
      ],
      "metadata": {
        "id": "qnHor-5ZGUNb"
      },
      "execution_count": null,
      "outputs": []
    },
    {
      "cell_type": "code",
      "source": [
        "model.compile(optimizer=\"rmsprop\", #Por defecto learning_rate=0.001\n",
        "              loss=\"categorical_crossentropy\",\n",
        "              metrics=[\"accuracy\"])"
      ],
      "metadata": {
        "id": "w72AgD7cOeQF"
      },
      "execution_count": null,
      "outputs": []
    },
    {
      "cell_type": "code",
      "source": [
        "x_val = x_train[:1000]\n",
        "partial_x_train = x_train[1000:]\n",
        "y_val = y_train[:1000]\n",
        "partial_y_train = y_train[1000:]"
      ],
      "metadata": {
        "id": "Xin8XfQB7IoX"
      },
      "execution_count": null,
      "outputs": []
    },
    {
      "cell_type": "code",
      "source": [
        "callbacks = [\n",
        "    keras.callbacks.ModelCheckpoint(\n",
        "        filepath = \"Best\",\n",
        "        save_best_only = True,\n",
        "        monitor = \"val_loss\"\n",
        "    )\n",
        "]"
      ],
      "metadata": {
        "id": "mnaQT4QA6A0Q"
      },
      "execution_count": null,
      "outputs": []
    },
    {
      "cell_type": "code",
      "source": [
        "history = model.fit(partial_x_train,\n",
        "                    partial_y_train,\n",
        "                    epochs=120,\n",
        "                    batch_size=512,\n",
        "                    validation_data=(x_val, y_val),\n",
        "                    callbacks = callbacks)"
      ],
      "metadata": {
        "colab": {
          "base_uri": "https://localhost:8080/"
        },
        "id": "7cjkUKyhPJcg",
        "outputId": "b674649d-a60e-490a-e890-b3d51cb43fcc"
      },
      "execution_count": null,
      "outputs": [
        {
          "output_type": "stream",
          "name": "stdout",
          "text": [
            "Epoch 1/120\n",
            "16/16 [==============================] - 3s 132ms/step - loss: 1.0953 - accuracy: 0.4095 - val_loss: 1.0795 - val_accuracy: 0.3970\n",
            "Epoch 2/120\n",
            "16/16 [==============================] - 2s 118ms/step - loss: 1.0680 - accuracy: 0.4157 - val_loss: 1.0654 - val_accuracy: 0.3970\n",
            "Epoch 3/120\n",
            "16/16 [==============================] - 2s 123ms/step - loss: 1.0531 - accuracy: 0.4174 - val_loss: 1.0533 - val_accuracy: 0.3970\n",
            "Epoch 4/120\n",
            "16/16 [==============================] - 2s 122ms/step - loss: 1.0371 - accuracy: 0.4261 - val_loss: 1.0429 - val_accuracy: 0.3970\n",
            "Epoch 5/120\n",
            "16/16 [==============================] - 2s 124ms/step - loss: 1.0255 - accuracy: 0.4346 - val_loss: 1.0333 - val_accuracy: 0.4000\n",
            "Epoch 6/120\n",
            "16/16 [==============================] - 2s 124ms/step - loss: 1.0130 - accuracy: 0.4490 - val_loss: 1.0246 - val_accuracy: 0.4170\n",
            "Epoch 7/120\n",
            "16/16 [==============================] - 2s 119ms/step - loss: 1.0006 - accuracy: 0.4564 - val_loss: 1.0149 - val_accuracy: 0.4350\n",
            "Epoch 8/120\n",
            "16/16 [==============================] - 2s 150ms/step - loss: 0.9896 - accuracy: 0.4767 - val_loss: 1.0058 - val_accuracy: 0.4430\n",
            "Epoch 9/120\n",
            "16/16 [==============================] - 2s 123ms/step - loss: 0.9753 - accuracy: 0.4923 - val_loss: 0.9952 - val_accuracy: 0.4670\n",
            "Epoch 10/120\n",
            "16/16 [==============================] - 2s 124ms/step - loss: 0.9648 - accuracy: 0.5153 - val_loss: 0.9874 - val_accuracy: 0.4640\n",
            "Epoch 11/120\n",
            "16/16 [==============================] - 2s 121ms/step - loss: 0.9556 - accuracy: 0.5263 - val_loss: 0.9753 - val_accuracy: 0.5040\n",
            "Epoch 12/120\n",
            "16/16 [==============================] - 2s 123ms/step - loss: 0.9384 - accuracy: 0.5530 - val_loss: 0.9636 - val_accuracy: 0.4970\n",
            "Epoch 13/120\n",
            "16/16 [==============================] - 2s 121ms/step - loss: 0.9243 - accuracy: 0.5757 - val_loss: 0.9524 - val_accuracy: 0.5160\n",
            "Epoch 14/120\n",
            "16/16 [==============================] - 2s 120ms/step - loss: 0.9104 - accuracy: 0.5822 - val_loss: 0.9422 - val_accuracy: 0.5760\n",
            "Epoch 15/120\n",
            "16/16 [==============================] - 2s 124ms/step - loss: 0.9022 - accuracy: 0.6081 - val_loss: 0.9357 - val_accuracy: 0.5700\n",
            "Epoch 16/120\n",
            "16/16 [==============================] - 2s 123ms/step - loss: 0.8848 - accuracy: 0.6153 - val_loss: 0.9239 - val_accuracy: 0.5880\n",
            "Epoch 17/120\n",
            "16/16 [==============================] - 2s 118ms/step - loss: 0.8791 - accuracy: 0.6226 - val_loss: 0.9143 - val_accuracy: 0.6300\n",
            "Epoch 18/120\n",
            "16/16 [==============================] - 2s 147ms/step - loss: 0.8580 - accuracy: 0.6503 - val_loss: 0.9059 - val_accuracy: 0.6330\n",
            "Epoch 19/120\n",
            "16/16 [==============================] - 2s 118ms/step - loss: 0.8494 - accuracy: 0.6725 - val_loss: 0.8989 - val_accuracy: 0.6340\n",
            "Epoch 20/120\n",
            "16/16 [==============================] - 2s 120ms/step - loss: 0.8389 - accuracy: 0.6745 - val_loss: 0.8906 - val_accuracy: 0.6540\n",
            "Epoch 21/120\n",
            "16/16 [==============================] - 2s 124ms/step - loss: 0.8284 - accuracy: 0.6708 - val_loss: 0.8875 - val_accuracy: 0.6290\n",
            "Epoch 22/120\n",
            "16/16 [==============================] - 2s 121ms/step - loss: 0.8098 - accuracy: 0.6917 - val_loss: 0.8777 - val_accuracy: 0.6470\n",
            "Epoch 23/120\n",
            "16/16 [==============================] - 2s 120ms/step - loss: 0.8061 - accuracy: 0.6847 - val_loss: 0.8717 - val_accuracy: 0.6680\n",
            "Epoch 24/120\n",
            "16/16 [==============================] - 2s 122ms/step - loss: 0.7905 - accuracy: 0.7010 - val_loss: 0.8703 - val_accuracy: 0.6660\n",
            "Epoch 25/120\n",
            "16/16 [==============================] - 2s 119ms/step - loss: 0.7798 - accuracy: 0.7125 - val_loss: 0.8606 - val_accuracy: 0.6680\n",
            "Epoch 26/120\n",
            "16/16 [==============================] - 2s 122ms/step - loss: 0.7769 - accuracy: 0.7146 - val_loss: 0.8605 - val_accuracy: 0.6660\n",
            "Epoch 27/120\n",
            "16/16 [==============================] - 2s 145ms/step - loss: 0.7684 - accuracy: 0.7136 - val_loss: 0.8568 - val_accuracy: 0.6750\n",
            "Epoch 28/120\n",
            "16/16 [==============================] - 2s 121ms/step - loss: 0.7579 - accuracy: 0.7194 - val_loss: 0.8470 - val_accuracy: 0.6840\n",
            "Epoch 29/120\n",
            "16/16 [==============================] - 2s 120ms/step - loss: 0.7449 - accuracy: 0.7276 - val_loss: 0.8436 - val_accuracy: 0.6860\n",
            "Epoch 30/120\n",
            "16/16 [==============================] - 2s 119ms/step - loss: 0.7369 - accuracy: 0.7350 - val_loss: 0.8414 - val_accuracy: 0.6900\n",
            "Epoch 31/120\n",
            "16/16 [==============================] - 2s 120ms/step - loss: 0.7291 - accuracy: 0.7392 - val_loss: 0.8394 - val_accuracy: 0.6990\n",
            "Epoch 32/120\n",
            "16/16 [==============================] - 2s 124ms/step - loss: 0.7226 - accuracy: 0.7472 - val_loss: 0.8348 - val_accuracy: 0.6950\n",
            "Epoch 33/120\n",
            "16/16 [==============================] - 2s 120ms/step - loss: 0.7130 - accuracy: 0.7489 - val_loss: 0.8325 - val_accuracy: 0.7010\n",
            "Epoch 34/120\n",
            "16/16 [==============================] - 2s 121ms/step - loss: 0.7036 - accuracy: 0.7567 - val_loss: 0.8287 - val_accuracy: 0.7070\n",
            "Epoch 35/120\n",
            "16/16 [==============================] - 2s 123ms/step - loss: 0.6939 - accuracy: 0.7623 - val_loss: 0.8241 - val_accuracy: 0.7040\n",
            "Epoch 36/120\n",
            "16/16 [==============================] - 2s 144ms/step - loss: 0.6839 - accuracy: 0.7675 - val_loss: 0.8198 - val_accuracy: 0.7070\n",
            "Epoch 37/120\n",
            "16/16 [==============================] - 1s 63ms/step - loss: 0.6834 - accuracy: 0.7676 - val_loss: 0.8219 - val_accuracy: 0.7040\n",
            "Epoch 38/120\n",
            "16/16 [==============================] - 1s 61ms/step - loss: 0.6676 - accuracy: 0.7814 - val_loss: 0.8226 - val_accuracy: 0.6980\n",
            "Epoch 39/120\n",
            "16/16 [==============================] - 2s 120ms/step - loss: 0.6692 - accuracy: 0.7661 - val_loss: 0.8131 - val_accuracy: 0.7030\n",
            "Epoch 40/120\n",
            "16/16 [==============================] - 2s 118ms/step - loss: 0.6596 - accuracy: 0.7813 - val_loss: 0.8126 - val_accuracy: 0.6980\n",
            "Epoch 41/120\n",
            "16/16 [==============================] - 1s 60ms/step - loss: 0.6570 - accuracy: 0.7752 - val_loss: 0.8161 - val_accuracy: 0.7120\n",
            "Epoch 42/120\n",
            "16/16 [==============================] - 2s 119ms/step - loss: 0.6497 - accuracy: 0.7871 - val_loss: 0.8083 - val_accuracy: 0.7040\n",
            "Epoch 43/120\n",
            "16/16 [==============================] - 2s 123ms/step - loss: 0.6442 - accuracy: 0.7893 - val_loss: 0.8064 - val_accuracy: 0.7060\n",
            "Epoch 44/120\n",
            "16/16 [==============================] - 1s 81ms/step - loss: 0.6399 - accuracy: 0.7888 - val_loss: 0.8069 - val_accuracy: 0.7030\n",
            "Epoch 45/120\n",
            "16/16 [==============================] - 2s 121ms/step - loss: 0.6324 - accuracy: 0.7901 - val_loss: 0.8030 - val_accuracy: 0.7100\n",
            "Epoch 46/120\n",
            "16/16 [==============================] - 2s 124ms/step - loss: 0.6248 - accuracy: 0.7953 - val_loss: 0.7988 - val_accuracy: 0.7070\n",
            "Epoch 47/120\n",
            "16/16 [==============================] - 1s 60ms/step - loss: 0.6180 - accuracy: 0.8042 - val_loss: 0.8056 - val_accuracy: 0.7060\n",
            "Epoch 48/120\n",
            "16/16 [==============================] - 1s 60ms/step - loss: 0.6097 - accuracy: 0.7965 - val_loss: 0.8064 - val_accuracy: 0.7020\n",
            "Epoch 49/120\n",
            "16/16 [==============================] - 1s 59ms/step - loss: 0.6064 - accuracy: 0.8039 - val_loss: 0.8074 - val_accuracy: 0.7080\n",
            "Epoch 50/120\n",
            "16/16 [==============================] - 1s 61ms/step - loss: 0.6129 - accuracy: 0.7995 - val_loss: 0.8005 - val_accuracy: 0.7070\n",
            "Epoch 51/120\n",
            "16/16 [==============================] - 2s 123ms/step - loss: 0.5980 - accuracy: 0.8100 - val_loss: 0.7977 - val_accuracy: 0.7030\n",
            "Epoch 52/120\n",
            "16/16 [==============================] - 2s 120ms/step - loss: 0.5937 - accuracy: 0.8075 - val_loss: 0.7937 - val_accuracy: 0.7000\n",
            "Epoch 53/120\n",
            "16/16 [==============================] - 2s 146ms/step - loss: 0.5866 - accuracy: 0.8094 - val_loss: 0.7932 - val_accuracy: 0.6970\n",
            "Epoch 54/120\n",
            "16/16 [==============================] - 1s 59ms/step - loss: 0.5872 - accuracy: 0.8100 - val_loss: 0.7994 - val_accuracy: 0.7110\n",
            "Epoch 55/120\n",
            "16/16 [==============================] - 1s 59ms/step - loss: 0.5781 - accuracy: 0.8144 - val_loss: 0.7951 - val_accuracy: 0.6990\n",
            "Epoch 56/120\n",
            "16/16 [==============================] - 1s 60ms/step - loss: 0.5737 - accuracy: 0.8122 - val_loss: 0.7941 - val_accuracy: 0.7000\n",
            "Epoch 57/120\n",
            "16/16 [==============================] - 1s 61ms/step - loss: 0.5734 - accuracy: 0.8108 - val_loss: 0.7941 - val_accuracy: 0.7050\n",
            "Epoch 58/120\n",
            "16/16 [==============================] - 2s 122ms/step - loss: 0.5602 - accuracy: 0.8196 - val_loss: 0.7909 - val_accuracy: 0.7090\n",
            "Epoch 59/120\n",
            "16/16 [==============================] - 1s 63ms/step - loss: 0.5669 - accuracy: 0.8165 - val_loss: 0.7916 - val_accuracy: 0.7040\n",
            "Epoch 60/120\n",
            "16/16 [==============================] - 1s 61ms/step - loss: 0.5530 - accuracy: 0.8231 - val_loss: 0.8019 - val_accuracy: 0.7100\n",
            "Epoch 61/120\n",
            "16/16 [==============================] - 2s 119ms/step - loss: 0.5517 - accuracy: 0.8303 - val_loss: 0.7904 - val_accuracy: 0.7050\n",
            "Epoch 62/120\n",
            "16/16 [==============================] - 2s 120ms/step - loss: 0.5514 - accuracy: 0.8217 - val_loss: 0.7902 - val_accuracy: 0.7050\n",
            "Epoch 63/120\n",
            "16/16 [==============================] - 1s 60ms/step - loss: 0.5420 - accuracy: 0.8272 - val_loss: 0.7903 - val_accuracy: 0.7040\n",
            "Epoch 64/120\n",
            "16/16 [==============================] - 1s 59ms/step - loss: 0.5484 - accuracy: 0.8198 - val_loss: 0.7990 - val_accuracy: 0.7010\n",
            "Epoch 65/120\n",
            "16/16 [==============================] - 2s 120ms/step - loss: 0.5424 - accuracy: 0.8243 - val_loss: 0.7874 - val_accuracy: 0.7000\n",
            "Epoch 66/120\n",
            "16/16 [==============================] - 1s 61ms/step - loss: 0.5354 - accuracy: 0.8240 - val_loss: 0.7955 - val_accuracy: 0.6990\n",
            "Epoch 67/120\n",
            "16/16 [==============================] - 1s 61ms/step - loss: 0.5271 - accuracy: 0.8333 - val_loss: 0.7974 - val_accuracy: 0.7010\n",
            "Epoch 68/120\n",
            "16/16 [==============================] - 1s 60ms/step - loss: 0.5298 - accuracy: 0.8260 - val_loss: 0.7958 - val_accuracy: 0.6940\n",
            "Epoch 69/120\n",
            "16/16 [==============================] - 1s 60ms/step - loss: 0.5262 - accuracy: 0.8304 - val_loss: 0.8003 - val_accuracy: 0.6960\n",
            "Epoch 70/120\n",
            "16/16 [==============================] - 1s 59ms/step - loss: 0.5114 - accuracy: 0.8352 - val_loss: 0.7880 - val_accuracy: 0.6960\n",
            "Epoch 71/120\n",
            "16/16 [==============================] - 2s 119ms/step - loss: 0.5215 - accuracy: 0.8377 - val_loss: 0.7867 - val_accuracy: 0.6990\n",
            "Epoch 72/120\n",
            "16/16 [==============================] - 1s 59ms/step - loss: 0.5134 - accuracy: 0.8379 - val_loss: 0.7878 - val_accuracy: 0.7040\n",
            "Epoch 73/120\n",
            "16/16 [==============================] - 1s 61ms/step - loss: 0.5116 - accuracy: 0.8324 - val_loss: 0.7990 - val_accuracy: 0.7060\n",
            "Epoch 74/120\n",
            "16/16 [==============================] - 1s 59ms/step - loss: 0.5095 - accuracy: 0.8370 - val_loss: 0.7968 - val_accuracy: 0.6940\n",
            "Epoch 75/120\n",
            "16/16 [==============================] - 1s 59ms/step - loss: 0.5078 - accuracy: 0.8330 - val_loss: 0.8124 - val_accuracy: 0.7040\n",
            "Epoch 76/120\n",
            "16/16 [==============================] - 1s 61ms/step - loss: 0.5105 - accuracy: 0.8353 - val_loss: 0.7991 - val_accuracy: 0.6940\n",
            "Epoch 77/120\n",
            "16/16 [==============================] - 1s 60ms/step - loss: 0.5003 - accuracy: 0.8392 - val_loss: 0.7967 - val_accuracy: 0.6940\n",
            "Epoch 78/120\n",
            "16/16 [==============================] - 1s 59ms/step - loss: 0.4890 - accuracy: 0.8498 - val_loss: 0.7936 - val_accuracy: 0.6890\n",
            "Epoch 79/120\n",
            "16/16 [==============================] - 1s 62ms/step - loss: 0.5010 - accuracy: 0.8364 - val_loss: 0.7998 - val_accuracy: 0.6910\n",
            "Epoch 80/120\n",
            "16/16 [==============================] - 1s 59ms/step - loss: 0.4952 - accuracy: 0.8405 - val_loss: 0.8036 - val_accuracy: 0.6890\n",
            "Epoch 81/120\n",
            "16/16 [==============================] - 1s 60ms/step - loss: 0.4904 - accuracy: 0.8409 - val_loss: 0.7976 - val_accuracy: 0.6950\n",
            "Epoch 82/120\n",
            "16/16 [==============================] - 1s 58ms/step - loss: 0.4811 - accuracy: 0.8461 - val_loss: 0.8102 - val_accuracy: 0.7030\n",
            "Epoch 83/120\n",
            "16/16 [==============================] - 1s 58ms/step - loss: 0.4932 - accuracy: 0.8389 - val_loss: 0.8139 - val_accuracy: 0.7070\n",
            "Epoch 84/120\n",
            "16/16 [==============================] - 1s 61ms/step - loss: 0.4871 - accuracy: 0.8390 - val_loss: 0.8084 - val_accuracy: 0.6990\n",
            "Epoch 85/120\n",
            "16/16 [==============================] - 1s 61ms/step - loss: 0.4842 - accuracy: 0.8400 - val_loss: 0.8055 - val_accuracy: 0.6880\n",
            "Epoch 86/120\n",
            "16/16 [==============================] - 1s 61ms/step - loss: 0.4856 - accuracy: 0.8408 - val_loss: 0.8139 - val_accuracy: 0.6850\n",
            "Epoch 87/120\n",
            "16/16 [==============================] - 1s 59ms/step - loss: 0.4821 - accuracy: 0.8429 - val_loss: 0.7997 - val_accuracy: 0.7000\n",
            "Epoch 88/120\n",
            "16/16 [==============================] - 1s 61ms/step - loss: 0.4735 - accuracy: 0.8477 - val_loss: 0.7948 - val_accuracy: 0.6970\n",
            "Epoch 89/120\n",
            "16/16 [==============================] - 1s 61ms/step - loss: 0.4738 - accuracy: 0.8495 - val_loss: 0.8105 - val_accuracy: 0.6980\n",
            "Epoch 90/120\n",
            "16/16 [==============================] - 1s 62ms/step - loss: 0.4679 - accuracy: 0.8430 - val_loss: 0.8143 - val_accuracy: 0.6990\n",
            "Epoch 91/120\n",
            "16/16 [==============================] - 1s 60ms/step - loss: 0.4742 - accuracy: 0.8443 - val_loss: 0.8130 - val_accuracy: 0.6980\n",
            "Epoch 92/120\n",
            "16/16 [==============================] - 1s 60ms/step - loss: 0.4754 - accuracy: 0.8413 - val_loss: 0.8099 - val_accuracy: 0.6920\n",
            "Epoch 93/120\n",
            "16/16 [==============================] - 1s 62ms/step - loss: 0.4625 - accuracy: 0.8494 - val_loss: 0.8095 - val_accuracy: 0.7000\n",
            "Epoch 94/120\n",
            "16/16 [==============================] - 1s 60ms/step - loss: 0.4544 - accuracy: 0.8495 - val_loss: 0.8052 - val_accuracy: 0.6980\n",
            "Epoch 95/120\n",
            "16/16 [==============================] - 1s 60ms/step - loss: 0.4581 - accuracy: 0.8495 - val_loss: 0.8233 - val_accuracy: 0.6950\n",
            "Epoch 96/120\n",
            "16/16 [==============================] - 1s 60ms/step - loss: 0.4493 - accuracy: 0.8587 - val_loss: 0.8123 - val_accuracy: 0.7040\n",
            "Epoch 97/120\n",
            "16/16 [==============================] - 1s 64ms/step - loss: 0.4596 - accuracy: 0.8472 - val_loss: 0.7985 - val_accuracy: 0.6940\n",
            "Epoch 98/120\n",
            "16/16 [==============================] - 1s 61ms/step - loss: 0.4529 - accuracy: 0.8525 - val_loss: 0.8162 - val_accuracy: 0.6920\n",
            "Epoch 99/120\n",
            "16/16 [==============================] - 1s 62ms/step - loss: 0.4529 - accuracy: 0.8504 - val_loss: 0.8040 - val_accuracy: 0.6900\n",
            "Epoch 100/120\n",
            "16/16 [==============================] - 1s 61ms/step - loss: 0.4483 - accuracy: 0.8530 - val_loss: 0.8114 - val_accuracy: 0.6960\n",
            "Epoch 101/120\n",
            "16/16 [==============================] - 1s 59ms/step - loss: 0.4456 - accuracy: 0.8521 - val_loss: 0.8037 - val_accuracy: 0.6940\n",
            "Epoch 102/120\n",
            "16/16 [==============================] - 1s 62ms/step - loss: 0.4511 - accuracy: 0.8524 - val_loss: 0.8016 - val_accuracy: 0.6890\n",
            "Epoch 103/120\n",
            "16/16 [==============================] - 1s 60ms/step - loss: 0.4390 - accuracy: 0.8590 - val_loss: 0.8296 - val_accuracy: 0.6960\n",
            "Epoch 104/120\n",
            "16/16 [==============================] - 1s 62ms/step - loss: 0.4394 - accuracy: 0.8548 - val_loss: 0.8183 - val_accuracy: 0.6930\n",
            "Epoch 105/120\n",
            "16/16 [==============================] - 1s 60ms/step - loss: 0.4434 - accuracy: 0.8530 - val_loss: 0.8130 - val_accuracy: 0.6840\n",
            "Epoch 106/120\n",
            "16/16 [==============================] - 1s 59ms/step - loss: 0.4338 - accuracy: 0.8565 - val_loss: 0.8113 - val_accuracy: 0.6940\n",
            "Epoch 107/120\n",
            "16/16 [==============================] - 1s 60ms/step - loss: 0.4433 - accuracy: 0.8477 - val_loss: 0.8181 - val_accuracy: 0.6910\n",
            "Epoch 108/120\n",
            "16/16 [==============================] - 1s 60ms/step - loss: 0.4289 - accuracy: 0.8565 - val_loss: 0.8053 - val_accuracy: 0.6920\n",
            "Epoch 109/120\n",
            "16/16 [==============================] - 1s 59ms/step - loss: 0.4382 - accuracy: 0.8515 - val_loss: 0.8125 - val_accuracy: 0.6970\n",
            "Epoch 110/120\n",
            "16/16 [==============================] - 1s 60ms/step - loss: 0.4312 - accuracy: 0.8560 - val_loss: 0.8344 - val_accuracy: 0.6890\n",
            "Epoch 111/120\n",
            "16/16 [==============================] - 1s 61ms/step - loss: 0.4302 - accuracy: 0.8545 - val_loss: 0.8110 - val_accuracy: 0.6860\n",
            "Epoch 112/120\n",
            "16/16 [==============================] - 1s 61ms/step - loss: 0.4232 - accuracy: 0.8582 - val_loss: 0.8318 - val_accuracy: 0.6940\n",
            "Epoch 113/120\n",
            "16/16 [==============================] - 1s 60ms/step - loss: 0.4308 - accuracy: 0.8541 - val_loss: 0.8171 - val_accuracy: 0.6910\n",
            "Epoch 114/120\n",
            "16/16 [==============================] - 1s 62ms/step - loss: 0.4380 - accuracy: 0.8515 - val_loss: 0.8142 - val_accuracy: 0.6910\n",
            "Epoch 115/120\n",
            "16/16 [==============================] - 1s 61ms/step - loss: 0.4264 - accuracy: 0.8564 - val_loss: 0.8205 - val_accuracy: 0.6940\n",
            "Epoch 116/120\n",
            "16/16 [==============================] - 1s 62ms/step - loss: 0.4288 - accuracy: 0.8528 - val_loss: 0.8375 - val_accuracy: 0.6820\n",
            "Epoch 117/120\n",
            "16/16 [==============================] - 1s 59ms/step - loss: 0.4180 - accuracy: 0.8629 - val_loss: 0.8345 - val_accuracy: 0.6890\n",
            "Epoch 118/120\n",
            "16/16 [==============================] - 1s 63ms/step - loss: 0.4286 - accuracy: 0.8513 - val_loss: 0.8094 - val_accuracy: 0.6890\n",
            "Epoch 119/120\n",
            "16/16 [==============================] - 1s 61ms/step - loss: 0.4210 - accuracy: 0.8587 - val_loss: 0.8022 - val_accuracy: 0.6940\n",
            "Epoch 120/120\n",
            "16/16 [==============================] - 1s 59ms/step - loss: 0.4200 - accuracy: 0.8612 - val_loss: 0.8087 - val_accuracy: 0.6940\n"
          ]
        }
      ]
    },
    {
      "cell_type": "code",
      "source": [
        "loss = history.history[\"loss\"]\n",
        "val_loss = history.history[\"val_loss\"]\n",
        "epochs = range(1, len(loss) + 1)\n",
        "plt.plot(epochs, loss, \"bo\", label=\"Training loss\")\n",
        "plt.plot(epochs, val_loss, \"b\", label=\"Validation loss\")\n",
        "plt.title(\"Training and validation loss\")\n",
        "plt.xlabel(\"Epochs\")\n",
        "plt.ylabel(\"Loss\")\n",
        "plt.legend()\n",
        "plt.show()"
      ],
      "metadata": {
        "colab": {
          "base_uri": "https://localhost:8080/",
          "height": 295
        },
        "id": "n4Oag125PLJo",
        "outputId": "353d94db-9e47-4087-ba35-a86a28eb5794"
      },
      "execution_count": null,
      "outputs": [
        {
          "output_type": "display_data",
          "data": {
            "text/plain": [
              "<Figure size 432x288 with 1 Axes>"
            ],
            "image/png": "[encoded data removed]"
          },
          "metadata": {
            "needs_background": "light"
          }
        }
      ]
    },
    {
      "cell_type": "code",
      "source": [
        "plt.clf()\n",
        "acc = history.history[\"accuracy\"]\n",
        "val_acc = history.history[\"val_accuracy\"]\n",
        "plt.plot(epochs, acc, \"bo\", label=\"Training accuracy\")\n",
        "plt.plot(epochs, val_acc, \"b\", label=\"Validation accuracy\")\n",
        "plt.title(\"Training and validation accuracy\")\n",
        "plt.xlabel(\"Epochs\")\n",
        "plt.ylabel(\"Accuracy\")\n",
        "plt.legend()\n",
        "plt.show()"
      ],
      "metadata": {
        "colab": {
          "base_uri": "https://localhost:8080/",
          "height": 295
        },
        "id": "s10R9fo9PXMR",
        "outputId": "8415554f-37eb-4371-c96f-71032e7531ed"
      },
      "execution_count": null,
      "outputs": [
        {
          "output_type": "display_data",
          "data": {
            "text/plain": [
              "<Figure size 432x288 with 1 Axes>"
            ],
            "image/png": "[encoded data removed]"
          },
          "metadata": {
            "needs_background": "light"
          }
        }
      ]
    },
    {
      "cell_type": "code",
      "source": [
        "test_model = keras.models.load_model(\"Best\")\n",
        "test_loss, test_acc = test_model.evaluate(x_test, y_test)"
      ],
      "metadata": {
        "colab": {
          "base_uri": "https://localhost:8080/"
        },
        "id": "eHLQIXO38D7n",
        "outputId": "41b234b6-28d3-4d34-e15e-c1e16d25295c"
      },
      "execution_count": null,
      "outputs": [
        {
          "output_type": "stream",
          "name": "stdout",
          "text": [
            "50/50 [==============================] - 0s 5ms/step - loss: 0.6029 - accuracy: 0.8052\n"
          ]
        }
      ]
    },
    {
      "cell_type": "code",
      "source": [
        "test_acc"
      ],
      "metadata": {
        "colab": {
          "base_uri": "https://localhost:8080/"
        },
        "id": "0oE-NnPN8c6D",
        "outputId": "4a4f795d-a7d4-48ce-a8c5-2d9a45064abe"
      },
      "execution_count": null,
      "outputs": [
        {
          "output_type": "execute_result",
          "data": {
            "text/plain": [
              "0.8051702380180359"
            ]
          },
          "metadata": {},
          "execution_count": 239
        }
      ]
    },
    {
      "cell_type": "code",
      "source": [
        "kmodel = keras.Sequential([\n",
        "  layers.Dense(16, activation=\"relu\", kernel_regularizer = regularizers.l2(l2 = 0.001)),\n",
        "    layers.Dropout(0.5),\n",
        "    layers.Dense(4, activation=\"relu\"),\n",
        "    layers.Dropout(0.25),\n",
        "    layers.Dense(3, activation=\"softmax\")\n",
        "])\n",
        "model.compile(optimizer=\"rmsprop\",\n",
        "              loss=\"categorical_crossentropy\",\n",
        "              metrics=[\"accuracy\"])\n",
        "model.fit(x_train,\n",
        "          y_train,\n",
        "          epochs=80,\n",
        "          batch_size=512, \n",
        "          validation_data=(x_val, y_val),\n",
        "          callbacks = callbacks)"
      ],
      "metadata": {
        "colab": {
          "base_uri": "https://localhost:8080/"
        },
        "id": "UTEgNA14Pa13",
        "outputId": "47919d00-b809-413d-e0ef-6ee86a6a08fa"
      },
      "execution_count": null,
      "outputs": [
        {
          "output_type": "stream",
          "name": "stdout",
          "text": [
            "Epoch 1/80\n",
            "17/17 [==============================] - 2s 77ms/step - loss: 0.6600 - accuracy: 0.7095 - val_loss: 0.4062 - val_accuracy: 0.8520\n",
            "Epoch 2/80\n",
            "17/17 [==============================] - 1s 64ms/step - loss: 0.6471 - accuracy: 0.7113 - val_loss: 0.4008 - val_accuracy: 0.8610\n",
            "Epoch 3/80\n",
            "17/17 [==============================] - 1s 64ms/step - loss: 0.6203 - accuracy: 0.7186 - val_loss: 0.3823 - val_accuracy: 0.8640\n",
            "Epoch 4/80\n",
            "17/17 [==============================] - 1s 63ms/step - loss: 0.6266 - accuracy: 0.7128 - val_loss: 0.3753 - val_accuracy: 0.8650\n",
            "Epoch 5/80\n",
            "17/17 [==============================] - 1s 63ms/step - loss: 0.6009 - accuracy: 0.7260 - val_loss: 0.3687 - val_accuracy: 0.8680\n",
            "Epoch 6/80\n",
            "17/17 [==============================] - 1s 63ms/step - loss: 0.5909 - accuracy: 0.7294 - val_loss: 0.3598 - val_accuracy: 0.8710\n",
            "Epoch 7/80\n",
            "17/17 [==============================] - 1s 64ms/step - loss: 0.5978 - accuracy: 0.7214 - val_loss: 0.3567 - val_accuracy: 0.8690\n",
            "Epoch 8/80\n",
            "17/17 [==============================] - 1s 61ms/step - loss: 0.5794 - accuracy: 0.7296 - val_loss: 0.3542 - val_accuracy: 0.8730\n",
            "Epoch 9/80\n",
            "17/17 [==============================] - 1s 64ms/step - loss: 0.5840 - accuracy: 0.7319 - val_loss: 0.3572 - val_accuracy: 0.8700\n",
            "Epoch 10/80\n",
            "17/17 [==============================] - 1s 62ms/step - loss: 0.5919 - accuracy: 0.7244 - val_loss: 0.3548 - val_accuracy: 0.8700\n",
            "Epoch 11/80\n",
            "17/17 [==============================] - 1s 63ms/step - loss: 0.5885 - accuracy: 0.7186 - val_loss: 0.3511 - val_accuracy: 0.8720\n",
            "Epoch 12/80\n",
            "17/17 [==============================] - 1s 64ms/step - loss: 0.5889 - accuracy: 0.7242 - val_loss: 0.3534 - val_accuracy: 0.8710\n",
            "Epoch 13/80\n",
            "17/17 [==============================] - 1s 65ms/step - loss: 0.5867 - accuracy: 0.7335 - val_loss: 0.3516 - val_accuracy: 0.8710\n",
            "Epoch 14/80\n",
            "17/17 [==============================] - 1s 63ms/step - loss: 0.5863 - accuracy: 0.7346 - val_loss: 0.3603 - val_accuracy: 0.8670\n",
            "Epoch 15/80\n",
            "17/17 [==============================] - 1s 63ms/step - loss: 0.5903 - accuracy: 0.7288 - val_loss: 0.3557 - val_accuracy: 0.8680\n",
            "Epoch 16/80\n",
            "17/17 [==============================] - 1s 62ms/step - loss: 0.5830 - accuracy: 0.7286 - val_loss: 0.3542 - val_accuracy: 0.8670\n",
            "Epoch 17/80\n",
            "17/17 [==============================] - 1s 62ms/step - loss: 0.5855 - accuracy: 0.7250 - val_loss: 0.3532 - val_accuracy: 0.8650\n",
            "Epoch 18/80\n",
            "17/17 [==============================] - 1s 62ms/step - loss: 0.5913 - accuracy: 0.7267 - val_loss: 0.3537 - val_accuracy: 0.8660\n",
            "Epoch 19/80\n",
            "17/17 [==============================] - 1s 64ms/step - loss: 0.6030 - accuracy: 0.7168 - val_loss: 0.3538 - val_accuracy: 0.8650\n",
            "Epoch 20/80\n",
            "17/17 [==============================] - 1s 62ms/step - loss: 0.5929 - accuracy: 0.7298 - val_loss: 0.3554 - val_accuracy: 0.8650\n",
            "Epoch 21/80\n",
            "17/17 [==============================] - 1s 65ms/step - loss: 0.5957 - accuracy: 0.7281 - val_loss: 0.3582 - val_accuracy: 0.8620\n",
            "Epoch 22/80\n",
            "17/17 [==============================] - 1s 63ms/step - loss: 0.5816 - accuracy: 0.7319 - val_loss: 0.3530 - val_accuracy: 0.8610\n",
            "Epoch 23/80\n",
            "17/17 [==============================] - 1s 64ms/step - loss: 0.5891 - accuracy: 0.7294 - val_loss: 0.3523 - val_accuracy: 0.8610\n",
            "Epoch 24/80\n",
            "17/17 [==============================] - 1s 63ms/step - loss: 0.5831 - accuracy: 0.7239 - val_loss: 0.3598 - val_accuracy: 0.8580\n",
            "Epoch 25/80\n",
            "17/17 [==============================] - 1s 62ms/step - loss: 0.5893 - accuracy: 0.7223 - val_loss: 0.3580 - val_accuracy: 0.8590\n",
            "Epoch 26/80\n",
            "17/17 [==============================] - 1s 64ms/step - loss: 0.5969 - accuracy: 0.7117 - val_loss: 0.3577 - val_accuracy: 0.8600\n",
            "Epoch 27/80\n",
            "17/17 [==============================] - 1s 62ms/step - loss: 0.5990 - accuracy: 0.7198 - val_loss: 0.3581 - val_accuracy: 0.8600\n",
            "Epoch 28/80\n",
            "17/17 [==============================] - 1s 64ms/step - loss: 0.5882 - accuracy: 0.7266 - val_loss: 0.3609 - val_accuracy: 0.8600\n",
            "Epoch 29/80\n",
            "17/17 [==============================] - 1s 63ms/step - loss: 0.5972 - accuracy: 0.7259 - val_loss: 0.3576 - val_accuracy: 0.8590\n",
            "Epoch 30/80\n",
            "17/17 [==============================] - 1s 66ms/step - loss: 0.5925 - accuracy: 0.7306 - val_loss: 0.3623 - val_accuracy: 0.8570\n",
            "Epoch 31/80\n",
            "17/17 [==============================] - 1s 64ms/step - loss: 0.6009 - accuracy: 0.7267 - val_loss: 0.3636 - val_accuracy: 0.8580\n",
            "Epoch 32/80\n",
            "17/17 [==============================] - 1s 66ms/step - loss: 0.5991 - accuracy: 0.7205 - val_loss: 0.3627 - val_accuracy: 0.8570\n",
            "Epoch 33/80\n",
            "17/17 [==============================] - 1s 63ms/step - loss: 0.5989 - accuracy: 0.7170 - val_loss: 0.3632 - val_accuracy: 0.8570\n",
            "Epoch 34/80\n",
            "17/17 [==============================] - 1s 63ms/step - loss: 0.6019 - accuracy: 0.7227 - val_loss: 0.3668 - val_accuracy: 0.8570\n",
            "Epoch 35/80\n",
            "17/17 [==============================] - 1s 64ms/step - loss: 0.5973 - accuracy: 0.7237 - val_loss: 0.3619 - val_accuracy: 0.8590\n",
            "Epoch 36/80\n",
            "17/17 [==============================] - 1s 64ms/step - loss: 0.5987 - accuracy: 0.7233 - val_loss: 0.3642 - val_accuracy: 0.8590\n",
            "Epoch 37/80\n",
            "17/17 [==============================] - 1s 62ms/step - loss: 0.5984 - accuracy: 0.7212 - val_loss: 0.3643 - val_accuracy: 0.8550\n",
            "Epoch 38/80\n",
            "17/17 [==============================] - 1s 63ms/step - loss: 0.6025 - accuracy: 0.7163 - val_loss: 0.3662 - val_accuracy: 0.8560\n",
            "Epoch 39/80\n",
            "17/17 [==============================] - 1s 63ms/step - loss: 0.6038 - accuracy: 0.7202 - val_loss: 0.3658 - val_accuracy: 0.8560\n",
            "Epoch 40/80\n",
            "17/17 [==============================] - 1s 63ms/step - loss: 0.6034 - accuracy: 0.7221 - val_loss: 0.3676 - val_accuracy: 0.8550\n",
            "Epoch 41/80\n",
            "17/17 [==============================] - 1s 62ms/step - loss: 0.6085 - accuracy: 0.7156 - val_loss: 0.3711 - val_accuracy: 0.8550\n",
            "Epoch 42/80\n",
            "17/17 [==============================] - 1s 72ms/step - loss: 0.6082 - accuracy: 0.7186 - val_loss: 0.3681 - val_accuracy: 0.8550\n",
            "Epoch 43/80\n",
            "17/17 [==============================] - 1s 63ms/step - loss: 0.6049 - accuracy: 0.7171 - val_loss: 0.3692 - val_accuracy: 0.8540\n",
            "Epoch 44/80\n",
            "17/17 [==============================] - 1s 69ms/step - loss: 0.6088 - accuracy: 0.7128 - val_loss: 0.3770 - val_accuracy: 0.8540\n",
            "Epoch 45/80\n",
            "17/17 [==============================] - 2s 94ms/step - loss: 0.6166 - accuracy: 0.7121 - val_loss: 0.3745 - val_accuracy: 0.8520\n",
            "Epoch 46/80\n",
            "17/17 [==============================] - 2s 97ms/step - loss: 0.6090 - accuracy: 0.7179 - val_loss: 0.3779 - val_accuracy: 0.8520\n",
            "Epoch 47/80\n",
            "17/17 [==============================] - 2s 105ms/step - loss: 0.6173 - accuracy: 0.7110 - val_loss: 0.3759 - val_accuracy: 0.8530\n",
            "Epoch 48/80\n",
            "17/17 [==============================] - 1s 66ms/step - loss: 0.6034 - accuracy: 0.7202 - val_loss: 0.3762 - val_accuracy: 0.8520\n",
            "Epoch 49/80\n",
            "17/17 [==============================] - 1s 66ms/step - loss: 0.6199 - accuracy: 0.7119 - val_loss: 0.3777 - val_accuracy: 0.8520\n",
            "Epoch 50/80\n",
            "17/17 [==============================] - 1s 64ms/step - loss: 0.6168 - accuracy: 0.7139 - val_loss: 0.3838 - val_accuracy: 0.8490\n",
            "Epoch 51/80\n",
            "17/17 [==============================] - 1s 64ms/step - loss: 0.6194 - accuracy: 0.7119 - val_loss: 0.3816 - val_accuracy: 0.8510\n",
            "Epoch 52/80\n",
            "17/17 [==============================] - 1s 62ms/step - loss: 0.6214 - accuracy: 0.7145 - val_loss: 0.3839 - val_accuracy: 0.8490\n",
            "Epoch 53/80\n",
            "17/17 [==============================] - 1s 64ms/step - loss: 0.6187 - accuracy: 0.7096 - val_loss: 0.3829 - val_accuracy: 0.8480\n",
            "Epoch 54/80\n",
            "17/17 [==============================] - 1s 63ms/step - loss: 0.6213 - accuracy: 0.7126 - val_loss: 0.3834 - val_accuracy: 0.8490\n",
            "Epoch 55/80\n",
            "17/17 [==============================] - 1s 65ms/step - loss: 0.6189 - accuracy: 0.7068 - val_loss: 0.3850 - val_accuracy: 0.8460\n",
            "Epoch 56/80\n",
            "17/17 [==============================] - 1s 64ms/step - loss: 0.6214 - accuracy: 0.7050 - val_loss: 0.3809 - val_accuracy: 0.8490\n",
            "Epoch 57/80\n",
            "17/17 [==============================] - 1s 64ms/step - loss: 0.6230 - accuracy: 0.7094 - val_loss: 0.3834 - val_accuracy: 0.8500\n",
            "Epoch 58/80\n",
            "17/17 [==============================] - 1s 64ms/step - loss: 0.6172 - accuracy: 0.7105 - val_loss: 0.3851 - val_accuracy: 0.8480\n",
            "Epoch 59/80\n",
            "17/17 [==============================] - 1s 62ms/step - loss: 0.6290 - accuracy: 0.7021 - val_loss: 0.3903 - val_accuracy: 0.8450\n",
            "Epoch 60/80\n",
            "17/17 [==============================] - 1s 61ms/step - loss: 0.6246 - accuracy: 0.7088 - val_loss: 0.3853 - val_accuracy: 0.8460\n",
            "Epoch 61/80\n",
            "17/17 [==============================] - 1s 64ms/step - loss: 0.6252 - accuracy: 0.7072 - val_loss: 0.3891 - val_accuracy: 0.8450\n",
            "Epoch 62/80\n",
            "17/17 [==============================] - 1s 61ms/step - loss: 0.6286 - accuracy: 0.7082 - val_loss: 0.3900 - val_accuracy: 0.8450\n",
            "Epoch 63/80\n",
            "17/17 [==============================] - 1s 63ms/step - loss: 0.6300 - accuracy: 0.7068 - val_loss: 0.3923 - val_accuracy: 0.8460\n",
            "Epoch 64/80\n",
            "17/17 [==============================] - 1s 63ms/step - loss: 0.6265 - accuracy: 0.7118 - val_loss: 0.3888 - val_accuracy: 0.8460\n",
            "Epoch 65/80\n",
            "17/17 [==============================] - 1s 65ms/step - loss: 0.6239 - accuracy: 0.7113 - val_loss: 0.3845 - val_accuracy: 0.8440\n",
            "Epoch 66/80\n",
            "17/17 [==============================] - 1s 65ms/step - loss: 0.6308 - accuracy: 0.7040 - val_loss: 0.3917 - val_accuracy: 0.8450\n",
            "Epoch 67/80\n",
            "17/17 [==============================] - 1s 65ms/step - loss: 0.6189 - accuracy: 0.7125 - val_loss: 0.3900 - val_accuracy: 0.8450\n",
            "Epoch 68/80\n",
            "17/17 [==============================] - 1s 66ms/step - loss: 0.6354 - accuracy: 0.6984 - val_loss: 0.3901 - val_accuracy: 0.8460\n",
            "Epoch 69/80\n",
            "17/17 [==============================] - 1s 64ms/step - loss: 0.6285 - accuracy: 0.7009 - val_loss: 0.3949 - val_accuracy: 0.8430\n",
            "Epoch 70/80\n",
            "17/17 [==============================] - 1s 65ms/step - loss: 0.6367 - accuracy: 0.7012 - val_loss: 0.3917 - val_accuracy: 0.8450\n",
            "Epoch 71/80\n",
            "17/17 [==============================] - 1s 63ms/step - loss: 0.6359 - accuracy: 0.7013 - val_loss: 0.3926 - val_accuracy: 0.8400\n",
            "Epoch 72/80\n",
            "17/17 [==============================] - 1s 64ms/step - loss: 0.6242 - accuracy: 0.7079 - val_loss: 0.4011 - val_accuracy: 0.8390\n",
            "Epoch 73/80\n",
            "17/17 [==============================] - 1s 64ms/step - loss: 0.6340 - accuracy: 0.7076 - val_loss: 0.3983 - val_accuracy: 0.8380\n",
            "Epoch 74/80\n",
            "17/17 [==============================] - 1s 65ms/step - loss: 0.6289 - accuracy: 0.7055 - val_loss: 0.3991 - val_accuracy: 0.8340\n",
            "Epoch 75/80\n",
            "17/17 [==============================] - 1s 65ms/step - loss: 0.6400 - accuracy: 0.7030 - val_loss: 0.4036 - val_accuracy: 0.8350\n",
            "Epoch 76/80\n",
            "17/17 [==============================] - 1s 63ms/step - loss: 0.6339 - accuracy: 0.7019 - val_loss: 0.4073 - val_accuracy: 0.8330\n",
            "Epoch 77/80\n",
            "17/17 [==============================] - 1s 64ms/step - loss: 0.6344 - accuracy: 0.7014 - val_loss: 0.4017 - val_accuracy: 0.8290\n",
            "Epoch 78/80\n",
            "17/17 [==============================] - 1s 65ms/step - loss: 0.6424 - accuracy: 0.6952 - val_loss: 0.4051 - val_accuracy: 0.8320\n",
            "Epoch 79/80\n",
            "17/17 [==============================] - 1s 63ms/step - loss: 0.6376 - accuracy: 0.7003 - val_loss: 0.4062 - val_accuracy: 0.8320\n",
            "Epoch 80/80\n",
            "17/17 [==============================] - 1s 62ms/step - loss: 0.6323 - accuracy: 0.7010 - val_loss: 0.4054 - val_accuracy: 0.8330\n"
          ]
        },
        {
          "output_type": "execute_result",
          "data": {
            "text/plain": [
              "<keras.callbacks.History at 0x7f99a7d37c70>"
            ]
          },
          "metadata": {},
          "execution_count": 260
        }
      ]
    },
    {
      "cell_type": "code",
      "source": [
        "results = model.evaluate(x_test, y_test)"
      ],
      "metadata": {
        "colab": {
          "base_uri": "https://localhost:8080/"
        },
        "id": "nRBC9mT-QQGT",
        "outputId": "c0241929-0905-48d3-c089-df9185062e1a"
      },
      "execution_count": null,
      "outputs": [
        {
          "output_type": "stream",
          "name": "stdout",
          "text": [
            "50/50 [==============================] - 0s 7ms/step - loss: 0.9887 - accuracy: 0.7535\n"
          ]
        }
      ]
    },
    {
      "cell_type": "code",
      "source": [
        "results"
      ],
      "metadata": {
        "colab": {
          "base_uri": "https://localhost:8080/"
        },
        "id": "f2CfYut9RbVB",
        "outputId": "c212fc17-3a79-4c60-b3de-e0acf1e94216"
      },
      "execution_count": null,
      "outputs": [
        {
          "output_type": "execute_result",
          "data": {
            "text/plain": [
              "[0.9887399673461914, 0.753467857837677]"
            ]
          },
          "metadata": {},
          "execution_count": 262
        }
      ]
    },
    {
      "cell_type": "code",
      "source": [
        "predictions = model.predict(x_test)"
      ],
      "metadata": {
        "colab": {
          "base_uri": "https://localhost:8080/"
        },
        "id": "LKSY-nmhRqQI",
        "outputId": "82e8f55f-7a41-4745-debd-405f7972ba31"
      },
      "execution_count": null,
      "outputs": [
        {
          "output_type": "stream",
          "name": "stdout",
          "text": [
            "50/50 [==============================] - 0s 3ms/step\n"
          ]
        }
      ]
    },
    {
      "cell_type": "code",
      "source": [
        "predictions[0]"
      ],
      "metadata": {
        "colab": {
          "base_uri": "https://localhost:8080/"
        },
        "id": "8Xo2-sXfRtl2",
        "outputId": "363d3ac2-8ea1-476e-9d74-d1eae8dbe7db"
      },
      "execution_count": null,
      "outputs": [
        {
          "output_type": "execute_result",
          "data": {
            "text/plain": [
              "array([9.9999970e-01, 2.2273736e-07, 6.9690775e-10], dtype=float32)"
            ]
          },
          "metadata": {},
          "execution_count": 264
        }
      ]
    }
  ]
}